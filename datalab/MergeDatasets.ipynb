{
 "cells": [
  {
   "cell_type": "code",
   "execution_count": 48,
   "metadata": {},
   "outputs": [],
   "source": [
    "import pandas as pd\n",
    "import numpy as np\n",
    "import seaborn as sns\n",
    "import matplotlib.pyplot as plt\n",
    "import sys\n",
    "import os"
   ]
  },
  {
   "cell_type": "code",
   "execution_count": 49,
   "metadata": {},
   "outputs": [],
   "source": [
    "current_dir = os.getcwd() # Obtener la ruta del directorio actual del notebook\n",
    "ROOT_PATH = os.path.dirname(current_dir) # Obtener la ruta del directorio superior\n",
    "sys.path.insert(1, ROOT_PATH) # Insertar la ruta en sys.path\n",
    "import root "
   ]
  },
  {
   "cell_type": "code",
   "execution_count": 50,
   "metadata": {},
   "outputs": [],
   "source": [
    "#creating paths from root \n",
    "client_path = root.DIR_DATA_STAGE + '1_single/client.pkl'\n",
    "electricity_prices_path = root.DIR_DATA_STAGE + '1_single/electricity_prices.pkl'\n",
    "gas_prices_path = root.DIR_DATA_STAGE + '1_single/gas_prices.pkl'\n",
    "historical_weather_path = root.DIR_DATA_STAGE + '1_single/historical_weather.pkl'\n",
    "train_path_c = root.DIR_DATA_STAGE + '1_single/train_consumption.pkl'\n",
    "train_path_p = root.DIR_DATA_STAGE + '1_single/train_production.pkl'"
   ]
  },
  {
   "cell_type": "code",
   "execution_count": 51,
   "metadata": {},
   "outputs": [],
   "source": [
    "# Read datasets from local\n",
    "client = pd.read_pickle(client_path)\n",
    "electricity_prices = pd.read_pickle(electricity_prices_path)\n",
    "gas_prices = pd.read_pickle(gas_prices_path)\n",
    "historical_weather = pd.read_pickle(historical_weather_path)\n",
    "train_c = pd.read_pickle(train_path_c)\n",
    "train_p = pd.read_pickle(train_path_p)"
   ]
  },
  {
   "cell_type": "code",
   "execution_count": 52,
   "metadata": {},
   "outputs": [
    {
     "data": {
      "text/plain": [
       "target      0\n",
       "datetime    0\n",
       "dtype: int64"
      ]
     },
     "execution_count": 52,
     "metadata": {},
     "output_type": "execute_result"
    }
   ],
   "source": [
    "train_p.isnull().sum()"
   ]
  },
  {
   "cell_type": "code",
   "execution_count": 53,
   "metadata": {},
   "outputs": [
    {
     "data": {
      "text/html": [
       "<div>\n",
       "<style scoped>\n",
       "    .dataframe tbody tr th:only-of-type {\n",
       "        vertical-align: middle;\n",
       "    }\n",
       "\n",
       "    .dataframe tbody tr th {\n",
       "        vertical-align: top;\n",
       "    }\n",
       "\n",
       "    .dataframe thead th {\n",
       "        text-align: right;\n",
       "    }\n",
       "</style>\n",
       "<table border=\"1\" class=\"dataframe\">\n",
       "  <thead>\n",
       "    <tr style=\"text-align: right;\">\n",
       "      <th></th>\n",
       "      <th>target</th>\n",
       "      <th>datetime</th>\n",
       "      <th>date</th>\n",
       "    </tr>\n",
       "  </thead>\n",
       "  <tbody>\n",
       "    <tr>\n",
       "      <th>10</th>\n",
       "      <td>0.315</td>\n",
       "      <td>2021-09-01 00:00:00</td>\n",
       "      <td>2021-09-01</td>\n",
       "    </tr>\n",
       "    <tr>\n",
       "      <th>132</th>\n",
       "      <td>0.353</td>\n",
       "      <td>2021-09-01 01:00:00</td>\n",
       "      <td>2021-09-01</td>\n",
       "    </tr>\n",
       "    <tr>\n",
       "      <th>254</th>\n",
       "      <td>0.338</td>\n",
       "      <td>2021-09-01 02:00:00</td>\n",
       "      <td>2021-09-01</td>\n",
       "    </tr>\n",
       "    <tr>\n",
       "      <th>376</th>\n",
       "      <td>0.303</td>\n",
       "      <td>2021-09-01 03:00:00</td>\n",
       "      <td>2021-09-01</td>\n",
       "    </tr>\n",
       "    <tr>\n",
       "      <th>498</th>\n",
       "      <td>0.424</td>\n",
       "      <td>2021-09-01 04:00:00</td>\n",
       "      <td>2021-09-01</td>\n",
       "    </tr>\n",
       "  </tbody>\n",
       "</table>\n",
       "</div>"
      ],
      "text/plain": [
       "     target            datetime       date\n",
       "10    0.315 2021-09-01 00:00:00 2021-09-01\n",
       "132   0.353 2021-09-01 01:00:00 2021-09-01\n",
       "254   0.338 2021-09-01 02:00:00 2021-09-01\n",
       "376   0.303 2021-09-01 03:00:00 2021-09-01\n",
       "498   0.424 2021-09-01 04:00:00 2021-09-01"
      ]
     },
     "execution_count": 53,
     "metadata": {},
     "output_type": "execute_result"
    }
   ],
   "source": [
    "train_p['date'] = train_p['datetime'].dt.floor('D')\n",
    "train_p.head()"
   ]
  },
  {
   "cell_type": "code",
   "execution_count": 54,
   "metadata": {},
   "outputs": [
    {
     "name": "stdout",
     "output_type": "stream",
     "text": [
      "<class 'pandas.core.frame.DataFrame'>\n",
      "Index: 15312 entries, 10 to 2018234\n",
      "Data columns (total 3 columns):\n",
      " #   Column    Non-Null Count  Dtype         \n",
      "---  ------    --------------  -----         \n",
      " 0   target    15312 non-null  float64       \n",
      " 1   datetime  15312 non-null  datetime64[ns]\n",
      " 2   date      15312 non-null  datetime64[ns]\n",
      "dtypes: datetime64[ns](2), float64(1)\n",
      "memory usage: 478.5 KB\n"
     ]
    }
   ],
   "source": [
    "train_p.info()"
   ]
  },
  {
   "cell_type": "code",
   "execution_count": 55,
   "metadata": {},
   "outputs": [
    {
     "name": "stdout",
     "output_type": "stream",
     "text": [
      "<class 'pandas.core.frame.DataFrame'>\n",
      "RangeIndex: 637 entries, 0 to 636\n",
      "Data columns (total 3 columns):\n",
      " #   Column                 Non-Null Count  Dtype         \n",
      "---  ------                 --------------  -----         \n",
      " 0   forecast_date          637 non-null    datetime64[ns]\n",
      " 1   lowest_price_per_mwh   637 non-null    float64       \n",
      " 2   highest_price_per_mwh  637 non-null    float64       \n",
      "dtypes: datetime64[ns](1), float64(2)\n",
      "memory usage: 15.1 KB\n"
     ]
    }
   ],
   "source": [
    "gas_prices.info()"
   ]
  },
  {
   "cell_type": "code",
   "execution_count": 56,
   "metadata": {},
   "outputs": [
    {
     "data": {
      "text/html": [
       "<div>\n",
       "<style scoped>\n",
       "    .dataframe tbody tr th:only-of-type {\n",
       "        vertical-align: middle;\n",
       "    }\n",
       "\n",
       "    .dataframe tbody tr th {\n",
       "        vertical-align: top;\n",
       "    }\n",
       "\n",
       "    .dataframe thead th {\n",
       "        text-align: right;\n",
       "    }\n",
       "</style>\n",
       "<table border=\"1\" class=\"dataframe\">\n",
       "  <thead>\n",
       "    <tr style=\"text-align: right;\">\n",
       "      <th></th>\n",
       "      <th>target</th>\n",
       "      <th>datetime</th>\n",
       "      <th>date</th>\n",
       "    </tr>\n",
       "  </thead>\n",
       "  <tbody>\n",
       "    <tr>\n",
       "      <th>11</th>\n",
       "      <td>5155.056</td>\n",
       "      <td>2021-09-01 00:00:00</td>\n",
       "      <td>2021-09-01</td>\n",
       "    </tr>\n",
       "    <tr>\n",
       "      <th>133</th>\n",
       "      <td>4953.258</td>\n",
       "      <td>2021-09-01 01:00:00</td>\n",
       "      <td>2021-09-01</td>\n",
       "    </tr>\n",
       "    <tr>\n",
       "      <th>255</th>\n",
       "      <td>4910.692</td>\n",
       "      <td>2021-09-01 02:00:00</td>\n",
       "      <td>2021-09-01</td>\n",
       "    </tr>\n",
       "    <tr>\n",
       "      <th>377</th>\n",
       "      <td>4700.725</td>\n",
       "      <td>2021-09-01 03:00:00</td>\n",
       "      <td>2021-09-01</td>\n",
       "    </tr>\n",
       "    <tr>\n",
       "      <th>499</th>\n",
       "      <td>4857.681</td>\n",
       "      <td>2021-09-01 04:00:00</td>\n",
       "      <td>2021-09-01</td>\n",
       "    </tr>\n",
       "  </tbody>\n",
       "</table>\n",
       "</div>"
      ],
      "text/plain": [
       "       target            datetime       date\n",
       "11   5155.056 2021-09-01 00:00:00 2021-09-01\n",
       "133  4953.258 2021-09-01 01:00:00 2021-09-01\n",
       "255  4910.692 2021-09-01 02:00:00 2021-09-01\n",
       "377  4700.725 2021-09-01 03:00:00 2021-09-01\n",
       "499  4857.681 2021-09-01 04:00:00 2021-09-01"
      ]
     },
     "execution_count": 56,
     "metadata": {},
     "output_type": "execute_result"
    }
   ],
   "source": [
    "train_c['date'] = train_c['datetime'].dt.floor('D')\n",
    "train_c.head()"
   ]
  },
  {
   "cell_type": "code",
   "execution_count": 57,
   "metadata": {},
   "outputs": [
    {
     "data": {
      "text/html": [
       "<div>\n",
       "<style scoped>\n",
       "    .dataframe tbody tr th:only-of-type {\n",
       "        vertical-align: middle;\n",
       "    }\n",
       "\n",
       "    .dataframe tbody tr th {\n",
       "        vertical-align: top;\n",
       "    }\n",
       "\n",
       "    .dataframe thead th {\n",
       "        text-align: right;\n",
       "    }\n",
       "</style>\n",
       "<table border=\"1\" class=\"dataframe\">\n",
       "  <thead>\n",
       "    <tr style=\"text-align: right;\">\n",
       "      <th></th>\n",
       "      <th>eic_count</th>\n",
       "      <th>installed_capacity</th>\n",
       "      <th>date</th>\n",
       "      <th>date_2_join</th>\n",
       "    </tr>\n",
       "  </thead>\n",
       "  <tbody>\n",
       "    <tr>\n",
       "      <th>5</th>\n",
       "      <td>265</td>\n",
       "      <td>13417.79</td>\n",
       "      <td>2021-09-01</td>\n",
       "      <td>2021-09-04</td>\n",
       "    </tr>\n",
       "    <tr>\n",
       "      <th>66</th>\n",
       "      <td>265</td>\n",
       "      <td>13417.79</td>\n",
       "      <td>2021-09-02</td>\n",
       "      <td>2021-09-05</td>\n",
       "    </tr>\n",
       "    <tr>\n",
       "      <th>127</th>\n",
       "      <td>265</td>\n",
       "      <td>13417.79</td>\n",
       "      <td>2021-09-03</td>\n",
       "      <td>2021-09-06</td>\n",
       "    </tr>\n",
       "    <tr>\n",
       "      <th>188</th>\n",
       "      <td>265</td>\n",
       "      <td>13417.79</td>\n",
       "      <td>2021-09-04</td>\n",
       "      <td>2021-09-07</td>\n",
       "    </tr>\n",
       "    <tr>\n",
       "      <th>249</th>\n",
       "      <td>265</td>\n",
       "      <td>13417.79</td>\n",
       "      <td>2021-09-05</td>\n",
       "      <td>2021-09-08</td>\n",
       "    </tr>\n",
       "  </tbody>\n",
       "</table>\n",
       "</div>"
      ],
      "text/plain": [
       "     eic_count  installed_capacity       date date_2_join\n",
       "5          265            13417.79 2021-09-01  2021-09-04\n",
       "66         265            13417.79 2021-09-02  2021-09-05\n",
       "127        265            13417.79 2021-09-03  2021-09-06\n",
       "188        265            13417.79 2021-09-04  2021-09-07\n",
       "249        265            13417.79 2021-09-05  2021-09-08"
      ]
     },
     "execution_count": 57,
     "metadata": {},
     "output_type": "execute_result"
    }
   ],
   "source": [
    "client['date_2_join'] = pd.to_datetime(client['date']) + pd.Timedelta(days=3)\n",
    "client.head()"
   ]
  },
  {
   "cell_type": "code",
   "execution_count": 58,
   "metadata": {},
   "outputs": [
    {
     "data": {
      "text/html": [
       "<div>\n",
       "<style scoped>\n",
       "    .dataframe tbody tr th:only-of-type {\n",
       "        vertical-align: middle;\n",
       "    }\n",
       "\n",
       "    .dataframe tbody tr th {\n",
       "        vertical-align: top;\n",
       "    }\n",
       "\n",
       "    .dataframe thead th {\n",
       "        text-align: right;\n",
       "    }\n",
       "</style>\n",
       "<table border=\"1\" class=\"dataframe\">\n",
       "  <thead>\n",
       "    <tr style=\"text-align: right;\">\n",
       "      <th></th>\n",
       "      <th>euros_per_mwh</th>\n",
       "      <th>date_2_join</th>\n",
       "    </tr>\n",
       "  </thead>\n",
       "  <tbody>\n",
       "    <tr>\n",
       "      <th>0</th>\n",
       "      <td>92.51</td>\n",
       "      <td>2021-09-02 00:00:00</td>\n",
       "    </tr>\n",
       "    <tr>\n",
       "      <th>1</th>\n",
       "      <td>88.90</td>\n",
       "      <td>2021-09-02 01:00:00</td>\n",
       "    </tr>\n",
       "    <tr>\n",
       "      <th>2</th>\n",
       "      <td>87.35</td>\n",
       "      <td>2021-09-02 02:00:00</td>\n",
       "    </tr>\n",
       "    <tr>\n",
       "      <th>3</th>\n",
       "      <td>86.88</td>\n",
       "      <td>2021-09-02 03:00:00</td>\n",
       "    </tr>\n",
       "    <tr>\n",
       "      <th>4</th>\n",
       "      <td>88.43</td>\n",
       "      <td>2021-09-02 04:00:00</td>\n",
       "    </tr>\n",
       "  </tbody>\n",
       "</table>\n",
       "</div>"
      ],
      "text/plain": [
       "   euros_per_mwh         date_2_join\n",
       "0          92.51 2021-09-02 00:00:00\n",
       "1          88.90 2021-09-02 01:00:00\n",
       "2          87.35 2021-09-02 02:00:00\n",
       "3          86.88 2021-09-02 03:00:00\n",
       "4          88.43 2021-09-02 04:00:00"
      ]
     },
     "execution_count": 58,
     "metadata": {},
     "output_type": "execute_result"
    }
   ],
   "source": [
    "electricity_prices['date_2_join'] = pd.to_datetime(electricity_prices['forecast_date']) + pd.Timedelta(days=1)\n",
    "electricity_prices.drop(columns=['forecast_date'], inplace=True)\n",
    "electricity_prices.head()"
   ]
  },
  {
   "cell_type": "code",
   "execution_count": 59,
   "metadata": {},
   "outputs": [
    {
     "data": {
      "text/html": [
       "<div>\n",
       "<style scoped>\n",
       "    .dataframe tbody tr th:only-of-type {\n",
       "        vertical-align: middle;\n",
       "    }\n",
       "\n",
       "    .dataframe tbody tr th {\n",
       "        vertical-align: top;\n",
       "    }\n",
       "\n",
       "    .dataframe thead th {\n",
       "        text-align: right;\n",
       "    }\n",
       "</style>\n",
       "<table border=\"1\" class=\"dataframe\">\n",
       "  <thead>\n",
       "    <tr style=\"text-align: right;\">\n",
       "      <th></th>\n",
       "      <th>lowest_price_per_mwh</th>\n",
       "      <th>highest_price_per_mwh</th>\n",
       "      <th>date_2_join</th>\n",
       "    </tr>\n",
       "  </thead>\n",
       "  <tbody>\n",
       "    <tr>\n",
       "      <th>0</th>\n",
       "      <td>45.23</td>\n",
       "      <td>46.32</td>\n",
       "      <td>2021-09-02</td>\n",
       "    </tr>\n",
       "    <tr>\n",
       "      <th>1</th>\n",
       "      <td>45.62</td>\n",
       "      <td>46.29</td>\n",
       "      <td>2021-09-03</td>\n",
       "    </tr>\n",
       "    <tr>\n",
       "      <th>2</th>\n",
       "      <td>45.85</td>\n",
       "      <td>46.40</td>\n",
       "      <td>2021-09-04</td>\n",
       "    </tr>\n",
       "    <tr>\n",
       "      <th>3</th>\n",
       "      <td>46.30</td>\n",
       "      <td>46.80</td>\n",
       "      <td>2021-09-05</td>\n",
       "    </tr>\n",
       "    <tr>\n",
       "      <th>4</th>\n",
       "      <td>46.30</td>\n",
       "      <td>46.58</td>\n",
       "      <td>2021-09-06</td>\n",
       "    </tr>\n",
       "  </tbody>\n",
       "</table>\n",
       "</div>"
      ],
      "text/plain": [
       "   lowest_price_per_mwh  highest_price_per_mwh date_2_join\n",
       "0                 45.23                  46.32  2021-09-02\n",
       "1                 45.62                  46.29  2021-09-03\n",
       "2                 45.85                  46.40  2021-09-04\n",
       "3                 46.30                  46.80  2021-09-05\n",
       "4                 46.30                  46.58  2021-09-06"
      ]
     },
     "execution_count": 59,
     "metadata": {},
     "output_type": "execute_result"
    }
   ],
   "source": [
    "gas_prices['date_2_join'] = pd.to_datetime(gas_prices['forecast_date']) + pd.Timedelta(days=1)\n",
    "gas_prices.drop(columns=['forecast_date'], inplace=True)\n",
    "gas_prices.head()"
   ]
  },
  {
   "cell_type": "code",
   "execution_count": 31,
   "metadata": {},
   "outputs": [
    {
     "data": {
      "text/html": [
       "<div>\n",
       "<style scoped>\n",
       "    .dataframe tbody tr th:only-of-type {\n",
       "        vertical-align: middle;\n",
       "    }\n",
       "\n",
       "    .dataframe tbody tr th {\n",
       "        vertical-align: top;\n",
       "    }\n",
       "\n",
       "    .dataframe thead th {\n",
       "        text-align: right;\n",
       "    }\n",
       "</style>\n",
       "<table border=\"1\" class=\"dataframe\">\n",
       "  <thead>\n",
       "    <tr style=\"text-align: right;\">\n",
       "      <th></th>\n",
       "      <th>temperature</th>\n",
       "      <th>dewpoint</th>\n",
       "      <th>rain</th>\n",
       "      <th>snowfall</th>\n",
       "      <th>surface_pressure</th>\n",
       "      <th>cloudcover_total</th>\n",
       "      <th>cloudcover_low</th>\n",
       "      <th>cloudcover_mid</th>\n",
       "      <th>cloudcover_high</th>\n",
       "      <th>windspeed_10m</th>\n",
       "      <th>winddirection_10m</th>\n",
       "      <th>shortwave_radiation</th>\n",
       "      <th>direct_solar_radiation</th>\n",
       "      <th>diffuse_radiation</th>\n",
       "      <th>date_2_join</th>\n",
       "    </tr>\n",
       "  </thead>\n",
       "  <tbody>\n",
       "    <tr>\n",
       "      <th>0</th>\n",
       "      <td>13.79</td>\n",
       "      <td>10.73</td>\n",
       "      <td>0.0</td>\n",
       "      <td>0.0</td>\n",
       "      <td>1010.56</td>\n",
       "      <td>54.4</td>\n",
       "      <td>56.9</td>\n",
       "      <td>3.5</td>\n",
       "      <td>3.9</td>\n",
       "      <td>5.325000</td>\n",
       "      <td>342.0</td>\n",
       "      <td>0.0</td>\n",
       "      <td>0.0</td>\n",
       "      <td>0.0</td>\n",
       "      <td>2021-09-03 00:00:00</td>\n",
       "    </tr>\n",
       "    <tr>\n",
       "      <th>1</th>\n",
       "      <td>13.62</td>\n",
       "      <td>10.35</td>\n",
       "      <td>0.0</td>\n",
       "      <td>0.0</td>\n",
       "      <td>1010.47</td>\n",
       "      <td>28.9</td>\n",
       "      <td>26.0</td>\n",
       "      <td>1.1</td>\n",
       "      <td>15.8</td>\n",
       "      <td>5.327778</td>\n",
       "      <td>345.8</td>\n",
       "      <td>0.0</td>\n",
       "      <td>0.0</td>\n",
       "      <td>0.0</td>\n",
       "      <td>2021-09-03 01:00:00</td>\n",
       "    </tr>\n",
       "    <tr>\n",
       "      <th>2</th>\n",
       "      <td>13.13</td>\n",
       "      <td>10.07</td>\n",
       "      <td>0.0</td>\n",
       "      <td>0.0</td>\n",
       "      <td>1010.14</td>\n",
       "      <td>13.7</td>\n",
       "      <td>14.5</td>\n",
       "      <td>0.1</td>\n",
       "      <td>1.8</td>\n",
       "      <td>5.091667</td>\n",
       "      <td>340.8</td>\n",
       "      <td>0.0</td>\n",
       "      <td>0.0</td>\n",
       "      <td>0.0</td>\n",
       "      <td>2021-09-03 02:00:00</td>\n",
       "    </tr>\n",
       "    <tr>\n",
       "      <th>3</th>\n",
       "      <td>12.74</td>\n",
       "      <td>9.94</td>\n",
       "      <td>0.0</td>\n",
       "      <td>0.0</td>\n",
       "      <td>1010.09</td>\n",
       "      <td>8.6</td>\n",
       "      <td>6.5</td>\n",
       "      <td>0.9</td>\n",
       "      <td>7.5</td>\n",
       "      <td>4.944444</td>\n",
       "      <td>335.5</td>\n",
       "      <td>0.0</td>\n",
       "      <td>0.0</td>\n",
       "      <td>0.0</td>\n",
       "      <td>2021-09-03 03:00:00</td>\n",
       "    </tr>\n",
       "    <tr>\n",
       "      <th>4</th>\n",
       "      <td>12.46</td>\n",
       "      <td>10.03</td>\n",
       "      <td>0.0</td>\n",
       "      <td>0.0</td>\n",
       "      <td>1009.83</td>\n",
       "      <td>4.1</td>\n",
       "      <td>2.8</td>\n",
       "      <td>0.6</td>\n",
       "      <td>4.2</td>\n",
       "      <td>4.669444</td>\n",
       "      <td>330.6</td>\n",
       "      <td>0.0</td>\n",
       "      <td>0.0</td>\n",
       "      <td>0.0</td>\n",
       "      <td>2021-09-03 04:00:00</td>\n",
       "    </tr>\n",
       "  </tbody>\n",
       "</table>\n",
       "</div>"
      ],
      "text/plain": [
       "   temperature  dewpoint  rain  snowfall  surface_pressure  cloudcover_total  \\\n",
       "0        13.79     10.73   0.0       0.0           1010.56              54.4   \n",
       "1        13.62     10.35   0.0       0.0           1010.47              28.9   \n",
       "2        13.13     10.07   0.0       0.0           1010.14              13.7   \n",
       "3        12.74      9.94   0.0       0.0           1010.09               8.6   \n",
       "4        12.46     10.03   0.0       0.0           1009.83               4.1   \n",
       "\n",
       "   cloudcover_low  cloudcover_mid  cloudcover_high  windspeed_10m  \\\n",
       "0            56.9             3.5              3.9       5.325000   \n",
       "1            26.0             1.1             15.8       5.327778   \n",
       "2            14.5             0.1              1.8       5.091667   \n",
       "3             6.5             0.9              7.5       4.944444   \n",
       "4             2.8             0.6              4.2       4.669444   \n",
       "\n",
       "   winddirection_10m  shortwave_radiation  direct_solar_radiation  \\\n",
       "0              342.0                  0.0                     0.0   \n",
       "1              345.8                  0.0                     0.0   \n",
       "2              340.8                  0.0                     0.0   \n",
       "3              335.5                  0.0                     0.0   \n",
       "4              330.6                  0.0                     0.0   \n",
       "\n",
       "   diffuse_radiation         date_2_join  \n",
       "0                0.0 2021-09-03 00:00:00  \n",
       "1                0.0 2021-09-03 01:00:00  \n",
       "2                0.0 2021-09-03 02:00:00  \n",
       "3                0.0 2021-09-03 03:00:00  \n",
       "4                0.0 2021-09-03 04:00:00  "
      ]
     },
     "execution_count": 31,
     "metadata": {},
     "output_type": "execute_result"
    }
   ],
   "source": [
    "historical_weather['date_2_join'] = historical_weather['datetime'] + pd.Timedelta(days=2)\n",
    "historical_weather.drop(columns=['datetime'], inplace=True)\n",
    "historical_weather.head()"
   ]
  },
  {
   "cell_type": "markdown",
   "metadata": {},
   "source": [
    "## Mergin data sets"
   ]
  },
  {
   "cell_type": "code",
   "execution_count": 32,
   "metadata": {},
   "outputs": [
    {
     "data": {
      "text/plain": [
       "15312"
      ]
     },
     "execution_count": 32,
     "metadata": {},
     "output_type": "execute_result"
    }
   ],
   "source": [
    "len(train_c)"
   ]
  },
  {
   "cell_type": "code",
   "execution_count": 33,
   "metadata": {},
   "outputs": [
    {
     "data": {
      "text/plain": [
       "15312"
      ]
     },
     "execution_count": 33,
     "metadata": {},
     "output_type": "execute_result"
    }
   ],
   "source": [
    "len(train_p)"
   ]
  },
  {
   "cell_type": "code",
   "execution_count": 34,
   "metadata": {},
   "outputs": [
    {
     "data": {
      "text/plain": [
       "636"
      ]
     },
     "execution_count": 34,
     "metadata": {},
     "output_type": "execute_result"
    }
   ],
   "source": [
    "len(client)"
   ]
  },
  {
   "cell_type": "markdown",
   "metadata": {},
   "source": [
    "## Merged consumption"
   ]
  },
  {
   "cell_type": "code",
   "execution_count": 35,
   "metadata": {},
   "outputs": [
    {
     "data": {
      "text/html": [
       "<div>\n",
       "<style scoped>\n",
       "    .dataframe tbody tr th:only-of-type {\n",
       "        vertical-align: middle;\n",
       "    }\n",
       "\n",
       "    .dataframe tbody tr th {\n",
       "        vertical-align: top;\n",
       "    }\n",
       "\n",
       "    .dataframe thead th {\n",
       "        text-align: right;\n",
       "    }\n",
       "</style>\n",
       "<table border=\"1\" class=\"dataframe\">\n",
       "  <thead>\n",
       "    <tr style=\"text-align: right;\">\n",
       "      <th></th>\n",
       "      <th>eic_count</th>\n",
       "      <th>installed_capacity</th>\n",
       "      <th>date</th>\n",
       "      <th>date_2_join</th>\n",
       "    </tr>\n",
       "  </thead>\n",
       "  <tbody>\n",
       "    <tr>\n",
       "      <th>5</th>\n",
       "      <td>265</td>\n",
       "      <td>13417.79</td>\n",
       "      <td>2021-09-01</td>\n",
       "      <td>2021-09-04</td>\n",
       "    </tr>\n",
       "    <tr>\n",
       "      <th>66</th>\n",
       "      <td>265</td>\n",
       "      <td>13417.79</td>\n",
       "      <td>2021-09-02</td>\n",
       "      <td>2021-09-05</td>\n",
       "    </tr>\n",
       "    <tr>\n",
       "      <th>127</th>\n",
       "      <td>265</td>\n",
       "      <td>13417.79</td>\n",
       "      <td>2021-09-03</td>\n",
       "      <td>2021-09-06</td>\n",
       "    </tr>\n",
       "    <tr>\n",
       "      <th>188</th>\n",
       "      <td>265</td>\n",
       "      <td>13417.79</td>\n",
       "      <td>2021-09-04</td>\n",
       "      <td>2021-09-07</td>\n",
       "    </tr>\n",
       "    <tr>\n",
       "      <th>249</th>\n",
       "      <td>265</td>\n",
       "      <td>13417.79</td>\n",
       "      <td>2021-09-05</td>\n",
       "      <td>2021-09-08</td>\n",
       "    </tr>\n",
       "  </tbody>\n",
       "</table>\n",
       "</div>"
      ],
      "text/plain": [
       "     eic_count  installed_capacity       date date_2_join\n",
       "5          265            13417.79 2021-09-01  2021-09-04\n",
       "66         265            13417.79 2021-09-02  2021-09-05\n",
       "127        265            13417.79 2021-09-03  2021-09-06\n",
       "188        265            13417.79 2021-09-04  2021-09-07\n",
       "249        265            13417.79 2021-09-05  2021-09-08"
      ]
     },
     "execution_count": 35,
     "metadata": {},
     "output_type": "execute_result"
    }
   ],
   "source": [
    "client.head()"
   ]
  },
  {
   "cell_type": "code",
   "execution_count": 36,
   "metadata": {},
   "outputs": [
    {
     "name": "stdout",
     "output_type": "stream",
     "text": [
      "15312\n"
     ]
    }
   ],
   "source": [
    "merged_df = train_c.merge(historical_weather, left_on=['datetime',], right_on=['date_2_join',], how='left')\n",
    "merged_df.drop(columns=['date_2_join'], inplace=True)\n",
    "merged_df = merged_df.merge(gas_prices, left_on=['date'], right_on=['date_2_join'], how='left')\n",
    "merged_df.drop(columns=['date_2_join'], inplace=True)\n",
    "merged_df = merged_df.merge(electricity_prices, left_on=['date'], right_on=['date_2_join'], how='left')\n",
    "merged_df.drop(columns=['date_2_join'], inplace=True)\n",
    "merged_df = merged_df.merge(client, left_on=['date'], right_on=['date_2_join'], how='left')\n",
    "merged_df.drop(columns=['date_2_join'], inplace=True)\n",
    "print(len(merged_df))"
   ]
  },
  {
   "cell_type": "code",
   "execution_count": 37,
   "metadata": {},
   "outputs": [],
   "source": [
    "# Define el nuevo orden de las columnas\n",
    "column_order = ['datetime', 'target', 'temperature', 'dewpoint', 'rain', 'snowfall',\n",
    "                'surface_pressure', 'cloudcover_low', 'cloudcover_mid', \n",
    "                'cloudcover_high', 'windspeed_10m', 'winddirection_10m', \n",
    "                'shortwave_radiation', \n",
    "                'lowest_price_per_mwh', 'highest_price_per_mwh', 'euros_per_mwh','eic_count', 'installed_capacity']\n",
    "\n",
    "# Reordena el DataFrame\n",
    "merged_df = merged_df[column_order]\n"
   ]
  },
  {
   "cell_type": "code",
   "execution_count": 38,
   "metadata": {},
   "outputs": [
    {
     "data": {
      "text/plain": [
       "Index(['datetime', 'target', 'temperature', 'dewpoint', 'rain', 'snowfall',\n",
       "       'surface_pressure', 'cloudcover_low', 'cloudcover_mid',\n",
       "       'cloudcover_high', 'windspeed_10m', 'winddirection_10m',\n",
       "       'shortwave_radiation', 'lowest_price_per_mwh', 'highest_price_per_mwh',\n",
       "       'euros_per_mwh', 'eic_count', 'installed_capacity'],\n",
       "      dtype='object')"
      ]
     },
     "execution_count": 38,
     "metadata": {},
     "output_type": "execute_result"
    }
   ],
   "source": [
    "merged_df.columns"
   ]
  },
  {
   "cell_type": "code",
   "execution_count": 39,
   "metadata": {},
   "outputs": [
    {
     "data": {
      "text/html": [
       "<div>\n",
       "<style scoped>\n",
       "    .dataframe tbody tr th:only-of-type {\n",
       "        vertical-align: middle;\n",
       "    }\n",
       "\n",
       "    .dataframe tbody tr th {\n",
       "        vertical-align: top;\n",
       "    }\n",
       "\n",
       "    .dataframe thead th {\n",
       "        text-align: right;\n",
       "    }\n",
       "</style>\n",
       "<table border=\"1\" class=\"dataframe\">\n",
       "  <thead>\n",
       "    <tr style=\"text-align: right;\">\n",
       "      <th></th>\n",
       "      <th>datetime</th>\n",
       "      <th>target</th>\n",
       "      <th>temperature</th>\n",
       "      <th>dewpoint</th>\n",
       "      <th>rain</th>\n",
       "      <th>snowfall</th>\n",
       "      <th>surface_pressure</th>\n",
       "      <th>cloudcover_low</th>\n",
       "      <th>cloudcover_mid</th>\n",
       "      <th>cloudcover_high</th>\n",
       "      <th>windspeed_10m</th>\n",
       "      <th>winddirection_10m</th>\n",
       "      <th>shortwave_radiation</th>\n",
       "      <th>lowest_price_per_mwh</th>\n",
       "      <th>highest_price_per_mwh</th>\n",
       "      <th>euros_per_mwh</th>\n",
       "      <th>eic_count</th>\n",
       "      <th>installed_capacity</th>\n",
       "    </tr>\n",
       "  </thead>\n",
       "  <tbody>\n",
       "    <tr>\n",
       "      <th>0</th>\n",
       "      <td>2021-09-01 00:00:00</td>\n",
       "      <td>5155.056</td>\n",
       "      <td>NaN</td>\n",
       "      <td>NaN</td>\n",
       "      <td>NaN</td>\n",
       "      <td>NaN</td>\n",
       "      <td>NaN</td>\n",
       "      <td>NaN</td>\n",
       "      <td>NaN</td>\n",
       "      <td>NaN</td>\n",
       "      <td>NaN</td>\n",
       "      <td>NaN</td>\n",
       "      <td>NaN</td>\n",
       "      <td>NaN</td>\n",
       "      <td>NaN</td>\n",
       "      <td>NaN</td>\n",
       "      <td>NaN</td>\n",
       "      <td>NaN</td>\n",
       "    </tr>\n",
       "    <tr>\n",
       "      <th>1</th>\n",
       "      <td>2021-09-01 01:00:00</td>\n",
       "      <td>4953.258</td>\n",
       "      <td>NaN</td>\n",
       "      <td>NaN</td>\n",
       "      <td>NaN</td>\n",
       "      <td>NaN</td>\n",
       "      <td>NaN</td>\n",
       "      <td>NaN</td>\n",
       "      <td>NaN</td>\n",
       "      <td>NaN</td>\n",
       "      <td>NaN</td>\n",
       "      <td>NaN</td>\n",
       "      <td>NaN</td>\n",
       "      <td>NaN</td>\n",
       "      <td>NaN</td>\n",
       "      <td>NaN</td>\n",
       "      <td>NaN</td>\n",
       "      <td>NaN</td>\n",
       "    </tr>\n",
       "    <tr>\n",
       "      <th>2</th>\n",
       "      <td>2021-09-01 02:00:00</td>\n",
       "      <td>4910.692</td>\n",
       "      <td>NaN</td>\n",
       "      <td>NaN</td>\n",
       "      <td>NaN</td>\n",
       "      <td>NaN</td>\n",
       "      <td>NaN</td>\n",
       "      <td>NaN</td>\n",
       "      <td>NaN</td>\n",
       "      <td>NaN</td>\n",
       "      <td>NaN</td>\n",
       "      <td>NaN</td>\n",
       "      <td>NaN</td>\n",
       "      <td>NaN</td>\n",
       "      <td>NaN</td>\n",
       "      <td>NaN</td>\n",
       "      <td>NaN</td>\n",
       "      <td>NaN</td>\n",
       "    </tr>\n",
       "    <tr>\n",
       "      <th>3</th>\n",
       "      <td>2021-09-01 03:00:00</td>\n",
       "      <td>4700.725</td>\n",
       "      <td>NaN</td>\n",
       "      <td>NaN</td>\n",
       "      <td>NaN</td>\n",
       "      <td>NaN</td>\n",
       "      <td>NaN</td>\n",
       "      <td>NaN</td>\n",
       "      <td>NaN</td>\n",
       "      <td>NaN</td>\n",
       "      <td>NaN</td>\n",
       "      <td>NaN</td>\n",
       "      <td>NaN</td>\n",
       "      <td>NaN</td>\n",
       "      <td>NaN</td>\n",
       "      <td>NaN</td>\n",
       "      <td>NaN</td>\n",
       "      <td>NaN</td>\n",
       "    </tr>\n",
       "    <tr>\n",
       "      <th>4</th>\n",
       "      <td>2021-09-01 04:00:00</td>\n",
       "      <td>4857.681</td>\n",
       "      <td>NaN</td>\n",
       "      <td>NaN</td>\n",
       "      <td>NaN</td>\n",
       "      <td>NaN</td>\n",
       "      <td>NaN</td>\n",
       "      <td>NaN</td>\n",
       "      <td>NaN</td>\n",
       "      <td>NaN</td>\n",
       "      <td>NaN</td>\n",
       "      <td>NaN</td>\n",
       "      <td>NaN</td>\n",
       "      <td>NaN</td>\n",
       "      <td>NaN</td>\n",
       "      <td>NaN</td>\n",
       "      <td>NaN</td>\n",
       "      <td>NaN</td>\n",
       "    </tr>\n",
       "  </tbody>\n",
       "</table>\n",
       "</div>"
      ],
      "text/plain": [
       "             datetime    target  temperature  dewpoint  rain  snowfall  \\\n",
       "0 2021-09-01 00:00:00  5155.056          NaN       NaN   NaN       NaN   \n",
       "1 2021-09-01 01:00:00  4953.258          NaN       NaN   NaN       NaN   \n",
       "2 2021-09-01 02:00:00  4910.692          NaN       NaN   NaN       NaN   \n",
       "3 2021-09-01 03:00:00  4700.725          NaN       NaN   NaN       NaN   \n",
       "4 2021-09-01 04:00:00  4857.681          NaN       NaN   NaN       NaN   \n",
       "\n",
       "   surface_pressure  cloudcover_low  cloudcover_mid  cloudcover_high  \\\n",
       "0               NaN             NaN             NaN              NaN   \n",
       "1               NaN             NaN             NaN              NaN   \n",
       "2               NaN             NaN             NaN              NaN   \n",
       "3               NaN             NaN             NaN              NaN   \n",
       "4               NaN             NaN             NaN              NaN   \n",
       "\n",
       "   windspeed_10m  winddirection_10m  shortwave_radiation  \\\n",
       "0            NaN                NaN                  NaN   \n",
       "1            NaN                NaN                  NaN   \n",
       "2            NaN                NaN                  NaN   \n",
       "3            NaN                NaN                  NaN   \n",
       "4            NaN                NaN                  NaN   \n",
       "\n",
       "   lowest_price_per_mwh  highest_price_per_mwh  euros_per_mwh  eic_count  \\\n",
       "0                   NaN                    NaN            NaN        NaN   \n",
       "1                   NaN                    NaN            NaN        NaN   \n",
       "2                   NaN                    NaN            NaN        NaN   \n",
       "3                   NaN                    NaN            NaN        NaN   \n",
       "4                   NaN                    NaN            NaN        NaN   \n",
       "\n",
       "   installed_capacity  \n",
       "0                 NaN  \n",
       "1                 NaN  \n",
       "2                 NaN  \n",
       "3                 NaN  \n",
       "4                 NaN  "
      ]
     },
     "execution_count": 39,
     "metadata": {},
     "output_type": "execute_result"
    }
   ],
   "source": [
    "merged_df.head()"
   ]
  },
  {
   "cell_type": "code",
   "execution_count": 40,
   "metadata": {},
   "outputs": [
    {
     "data": {
      "text/plain": [
       "datetime                  0\n",
       "target                    0\n",
       "temperature              48\n",
       "dewpoint                 48\n",
       "rain                     48\n",
       "snowfall                 48\n",
       "surface_pressure         48\n",
       "cloudcover_low           48\n",
       "cloudcover_mid           48\n",
       "cloudcover_high          48\n",
       "windspeed_10m            48\n",
       "winddirection_10m        48\n",
       "shortwave_radiation      48\n",
       "lowest_price_per_mwh     24\n",
       "highest_price_per_mwh    24\n",
       "euros_per_mwh            24\n",
       "eic_count                72\n",
       "installed_capacity       72\n",
       "dtype: int64"
      ]
     },
     "execution_count": 40,
     "metadata": {},
     "output_type": "execute_result"
    }
   ],
   "source": [
    "merged_df.isnull().sum()"
   ]
  },
  {
   "cell_type": "markdown",
   "metadata": {},
   "source": [
    "## Merged Production"
   ]
  },
  {
   "cell_type": "code",
   "execution_count": 41,
   "metadata": {},
   "outputs": [],
   "source": [
    "merged_df_p = train_p.merge(historical_weather, left_on=['datetime',], right_on=['date_2_join',], how='left')\n",
    "merged_df_p.drop(columns=['date_2_join'], inplace=True)\n",
    "merged_df_p = merged_df_p.merge(gas_prices, left_on=['date'], right_on=['date_2_join'], how='left')\n",
    "merged_df_p.drop(columns=['date_2_join'], inplace=True)\n",
    "merged_df_p = merged_df_p.merge(electricity_prices, left_on=['date'], right_on=['date_2_join'], how='left')\n",
    "merged_df_p.drop(columns=['date_2_join'], inplace=True)\n",
    "merged_df_p = merged_df_p.merge(client, left_on=['date'], right_on=['date_2_join'], how='left')\n",
    "merged_df_p.drop(columns=['date_2_join'], inplace=True)"
   ]
  },
  {
   "cell_type": "code",
   "execution_count": 42,
   "metadata": {},
   "outputs": [],
   "source": [
    "# Define el nuevo orden de las columnas\n",
    "column_order = ['datetime', 'target', 'temperature', 'dewpoint', 'rain', 'snowfall',\n",
    "                'surface_pressure', 'cloudcover_low', 'cloudcover_mid', \n",
    "                'cloudcover_high', 'windspeed_10m', 'winddirection_10m', \n",
    "                'shortwave_radiation', \n",
    "                'lowest_price_per_mwh', 'highest_price_per_mwh', 'euros_per_mwh','eic_count', 'installed_capacity']\n",
    "\n",
    "# Reordena el DataFrame\n",
    "merged_df_p = merged_df_p[column_order]\n"
   ]
  },
  {
   "cell_type": "code",
   "execution_count": 43,
   "metadata": {},
   "outputs": [
    {
     "data": {
      "text/plain": [
       "Index(['datetime', 'target', 'temperature', 'dewpoint', 'rain', 'snowfall',\n",
       "       'surface_pressure', 'cloudcover_low', 'cloudcover_mid',\n",
       "       'cloudcover_high', 'windspeed_10m', 'winddirection_10m',\n",
       "       'shortwave_radiation', 'lowest_price_per_mwh', 'highest_price_per_mwh',\n",
       "       'euros_per_mwh', 'eic_count', 'installed_capacity'],\n",
       "      dtype='object')"
      ]
     },
     "execution_count": 43,
     "metadata": {},
     "output_type": "execute_result"
    }
   ],
   "source": [
    "merged_df_p.columns"
   ]
  },
  {
   "cell_type": "code",
   "execution_count": 44,
   "metadata": {},
   "outputs": [
    {
     "data": {
      "text/html": [
       "<div>\n",
       "<style scoped>\n",
       "    .dataframe tbody tr th:only-of-type {\n",
       "        vertical-align: middle;\n",
       "    }\n",
       "\n",
       "    .dataframe tbody tr th {\n",
       "        vertical-align: top;\n",
       "    }\n",
       "\n",
       "    .dataframe thead th {\n",
       "        text-align: right;\n",
       "    }\n",
       "</style>\n",
       "<table border=\"1\" class=\"dataframe\">\n",
       "  <thead>\n",
       "    <tr style=\"text-align: right;\">\n",
       "      <th></th>\n",
       "      <th>datetime</th>\n",
       "      <th>target</th>\n",
       "      <th>temperature</th>\n",
       "      <th>dewpoint</th>\n",
       "      <th>rain</th>\n",
       "      <th>snowfall</th>\n",
       "      <th>surface_pressure</th>\n",
       "      <th>cloudcover_low</th>\n",
       "      <th>cloudcover_mid</th>\n",
       "      <th>cloudcover_high</th>\n",
       "      <th>windspeed_10m</th>\n",
       "      <th>winddirection_10m</th>\n",
       "      <th>shortwave_radiation</th>\n",
       "      <th>lowest_price_per_mwh</th>\n",
       "      <th>highest_price_per_mwh</th>\n",
       "      <th>euros_per_mwh</th>\n",
       "      <th>eic_count</th>\n",
       "      <th>installed_capacity</th>\n",
       "    </tr>\n",
       "  </thead>\n",
       "  <tbody>\n",
       "    <tr>\n",
       "      <th>0</th>\n",
       "      <td>2021-09-01 00:00:00</td>\n",
       "      <td>0.315</td>\n",
       "      <td>NaN</td>\n",
       "      <td>NaN</td>\n",
       "      <td>NaN</td>\n",
       "      <td>NaN</td>\n",
       "      <td>NaN</td>\n",
       "      <td>NaN</td>\n",
       "      <td>NaN</td>\n",
       "      <td>NaN</td>\n",
       "      <td>NaN</td>\n",
       "      <td>NaN</td>\n",
       "      <td>NaN</td>\n",
       "      <td>NaN</td>\n",
       "      <td>NaN</td>\n",
       "      <td>NaN</td>\n",
       "      <td>NaN</td>\n",
       "      <td>NaN</td>\n",
       "    </tr>\n",
       "    <tr>\n",
       "      <th>1</th>\n",
       "      <td>2021-09-01 01:00:00</td>\n",
       "      <td>0.353</td>\n",
       "      <td>NaN</td>\n",
       "      <td>NaN</td>\n",
       "      <td>NaN</td>\n",
       "      <td>NaN</td>\n",
       "      <td>NaN</td>\n",
       "      <td>NaN</td>\n",
       "      <td>NaN</td>\n",
       "      <td>NaN</td>\n",
       "      <td>NaN</td>\n",
       "      <td>NaN</td>\n",
       "      <td>NaN</td>\n",
       "      <td>NaN</td>\n",
       "      <td>NaN</td>\n",
       "      <td>NaN</td>\n",
       "      <td>NaN</td>\n",
       "      <td>NaN</td>\n",
       "    </tr>\n",
       "    <tr>\n",
       "      <th>2</th>\n",
       "      <td>2021-09-01 02:00:00</td>\n",
       "      <td>0.338</td>\n",
       "      <td>NaN</td>\n",
       "      <td>NaN</td>\n",
       "      <td>NaN</td>\n",
       "      <td>NaN</td>\n",
       "      <td>NaN</td>\n",
       "      <td>NaN</td>\n",
       "      <td>NaN</td>\n",
       "      <td>NaN</td>\n",
       "      <td>NaN</td>\n",
       "      <td>NaN</td>\n",
       "      <td>NaN</td>\n",
       "      <td>NaN</td>\n",
       "      <td>NaN</td>\n",
       "      <td>NaN</td>\n",
       "      <td>NaN</td>\n",
       "      <td>NaN</td>\n",
       "    </tr>\n",
       "    <tr>\n",
       "      <th>3</th>\n",
       "      <td>2021-09-01 03:00:00</td>\n",
       "      <td>0.303</td>\n",
       "      <td>NaN</td>\n",
       "      <td>NaN</td>\n",
       "      <td>NaN</td>\n",
       "      <td>NaN</td>\n",
       "      <td>NaN</td>\n",
       "      <td>NaN</td>\n",
       "      <td>NaN</td>\n",
       "      <td>NaN</td>\n",
       "      <td>NaN</td>\n",
       "      <td>NaN</td>\n",
       "      <td>NaN</td>\n",
       "      <td>NaN</td>\n",
       "      <td>NaN</td>\n",
       "      <td>NaN</td>\n",
       "      <td>NaN</td>\n",
       "      <td>NaN</td>\n",
       "    </tr>\n",
       "    <tr>\n",
       "      <th>4</th>\n",
       "      <td>2021-09-01 04:00:00</td>\n",
       "      <td>0.424</td>\n",
       "      <td>NaN</td>\n",
       "      <td>NaN</td>\n",
       "      <td>NaN</td>\n",
       "      <td>NaN</td>\n",
       "      <td>NaN</td>\n",
       "      <td>NaN</td>\n",
       "      <td>NaN</td>\n",
       "      <td>NaN</td>\n",
       "      <td>NaN</td>\n",
       "      <td>NaN</td>\n",
       "      <td>NaN</td>\n",
       "      <td>NaN</td>\n",
       "      <td>NaN</td>\n",
       "      <td>NaN</td>\n",
       "      <td>NaN</td>\n",
       "      <td>NaN</td>\n",
       "    </tr>\n",
       "  </tbody>\n",
       "</table>\n",
       "</div>"
      ],
      "text/plain": [
       "             datetime  target  temperature  dewpoint  rain  snowfall  \\\n",
       "0 2021-09-01 00:00:00   0.315          NaN       NaN   NaN       NaN   \n",
       "1 2021-09-01 01:00:00   0.353          NaN       NaN   NaN       NaN   \n",
       "2 2021-09-01 02:00:00   0.338          NaN       NaN   NaN       NaN   \n",
       "3 2021-09-01 03:00:00   0.303          NaN       NaN   NaN       NaN   \n",
       "4 2021-09-01 04:00:00   0.424          NaN       NaN   NaN       NaN   \n",
       "\n",
       "   surface_pressure  cloudcover_low  cloudcover_mid  cloudcover_high  \\\n",
       "0               NaN             NaN             NaN              NaN   \n",
       "1               NaN             NaN             NaN              NaN   \n",
       "2               NaN             NaN             NaN              NaN   \n",
       "3               NaN             NaN             NaN              NaN   \n",
       "4               NaN             NaN             NaN              NaN   \n",
       "\n",
       "   windspeed_10m  winddirection_10m  shortwave_radiation  \\\n",
       "0            NaN                NaN                  NaN   \n",
       "1            NaN                NaN                  NaN   \n",
       "2            NaN                NaN                  NaN   \n",
       "3            NaN                NaN                  NaN   \n",
       "4            NaN                NaN                  NaN   \n",
       "\n",
       "   lowest_price_per_mwh  highest_price_per_mwh  euros_per_mwh  eic_count  \\\n",
       "0                   NaN                    NaN            NaN        NaN   \n",
       "1                   NaN                    NaN            NaN        NaN   \n",
       "2                   NaN                    NaN            NaN        NaN   \n",
       "3                   NaN                    NaN            NaN        NaN   \n",
       "4                   NaN                    NaN            NaN        NaN   \n",
       "\n",
       "   installed_capacity  \n",
       "0                 NaN  \n",
       "1                 NaN  \n",
       "2                 NaN  \n",
       "3                 NaN  \n",
       "4                 NaN  "
      ]
     },
     "execution_count": 44,
     "metadata": {},
     "output_type": "execute_result"
    }
   ],
   "source": [
    "merged_df_p.head()"
   ]
  },
  {
   "cell_type": "code",
   "execution_count": 45,
   "metadata": {},
   "outputs": [
    {
     "data": {
      "text/plain": [
       "datetime                  0\n",
       "target                    0\n",
       "temperature              48\n",
       "dewpoint                 48\n",
       "rain                     48\n",
       "snowfall                 48\n",
       "surface_pressure         48\n",
       "cloudcover_low           48\n",
       "cloudcover_mid           48\n",
       "cloudcover_high          48\n",
       "windspeed_10m            48\n",
       "winddirection_10m        48\n",
       "shortwave_radiation      48\n",
       "lowest_price_per_mwh     24\n",
       "highest_price_per_mwh    24\n",
       "euros_per_mwh            24\n",
       "eic_count                72\n",
       "installed_capacity       72\n",
       "dtype: int64"
      ]
     },
     "execution_count": 45,
     "metadata": {},
     "output_type": "execute_result"
    }
   ],
   "source": [
    "merged_df_p.isnull().sum()"
   ]
  },
  {
   "cell_type": "code",
   "execution_count": 46,
   "metadata": {},
   "outputs": [],
   "source": [
    "merged_p_path = root.DIR_DATA_STAGE + 'merged_df_production.pkl'\n",
    "merged_df_p.to_pickle(merged_p_path) "
   ]
  },
  {
   "cell_type": "code",
   "execution_count": 47,
   "metadata": {},
   "outputs": [],
   "source": [
    "merged_c_path = root.DIR_DATA_STAGE + 'merged_df_consumption.pkl'\n",
    "merged_df.to_pickle(merged_c_path) "
   ]
  },
  {
   "cell_type": "code",
   "execution_count": 40,
   "metadata": {},
   "outputs": [
    {
     "data": {
      "text/plain": [
       "15312"
      ]
     },
     "execution_count": 40,
     "metadata": {},
     "output_type": "execute_result"
    }
   ],
   "source": [
    "len(merged_df)"
   ]
  }
 ],
 "metadata": {
  "kernelspec": {
   "display_name": "DataScience",
   "language": "python",
   "name": "python3"
  },
  "language_info": {
   "codemirror_mode": {
    "name": "ipython",
    "version": 3
   },
   "file_extension": ".py",
   "mimetype": "text/x-python",
   "name": "python",
   "nbconvert_exporter": "python",
   "pygments_lexer": "ipython3",
   "version": "3.12.2"
  }
 },
 "nbformat": 4,
 "nbformat_minor": 2
}
