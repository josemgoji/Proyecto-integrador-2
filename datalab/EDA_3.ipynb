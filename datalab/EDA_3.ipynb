{
 "cells": [
  {
   "cell_type": "markdown",
   "metadata": {
    "id": "BG2JLK7pm4xy"
   },
   "source": [
    "# Config"
   ]
  },
  {
   "cell_type": "code",
   "execution_count": 1,
   "metadata": {
    "id": "0ITaMLF9jHRg"
   },
   "outputs": [],
   "source": [
    "# Import libraries\n",
    "import numpy as np\n",
    "import pandas as pd\n",
    "import matplotlib.pyplot as plt\n",
    "import seaborn as sns\n",
    "from geopy.geocoders import Nominatim\n",
    "import sys\n",
    "import os"
   ]
  },
  {
   "cell_type": "code",
   "execution_count": 2,
   "metadata": {},
   "outputs": [],
   "source": [
    "current_dir = os.getcwd() # Obtener la ruta del directorio actual del notebook\n",
    "ROOT_PATH = os.path.dirname(current_dir) # Obtener la ruta del directorio superior\n",
    "sys.path.insert(1, ROOT_PATH) # Insertar la ruta en sys.path\n",
    "import root"
   ]
  },
  {
   "cell_type": "code",
   "execution_count": 3,
   "metadata": {
    "id": "MpbtX2gmjDLm"
   },
   "outputs": [],
   "source": [
    "# Read datasets\n",
    "client = pd.read_csv(root.DIR_DATA_RAW + 'client.csv')\n",
    "electricity_prices = pd.read_csv(root.DIR_DATA_RAW + 'electricity_prices.csv')\n",
    "gas_prices = pd.read_csv(root.DIR_DATA_RAW + 'gas_prices.csv')\n",
    "historical_weather = pd.read_csv(root.DIR_DATA_RAW + 'historical_weather.csv')\n",
    "forecast_weather = pd.read_csv(root.DIR_DATA_RAW + 'forecast_weather.csv')\n",
    "train = pd.read_csv(root.DIR_DATA_RAW + 'train.csv')"
   ]
  },
  {
   "cell_type": "code",
   "execution_count": 4,
   "metadata": {
    "colab": {
     "base_uri": "https://localhost:8080/"
    },
    "id": "z9-3va_Hl-37",
    "outputId": "bc7a56af-4dc9-46b8-9356-22b7c1cbd573"
   },
   "outputs": [
    {
     "name": "stdout",
     "output_type": "stream",
     "text": [
      "(15286, 4)\n"
     ]
    },
    {
     "data": {
      "text/html": [
       "<div>\n",
       "<style scoped>\n",
       "    .dataframe tbody tr th:only-of-type {\n",
       "        vertical-align: middle;\n",
       "    }\n",
       "\n",
       "    .dataframe tbody tr th {\n",
       "        vertical-align: top;\n",
       "    }\n",
       "\n",
       "    .dataframe thead th {\n",
       "        text-align: right;\n",
       "    }\n",
       "</style>\n",
       "<table border=\"1\" class=\"dataframe\">\n",
       "  <thead>\n",
       "    <tr style=\"text-align: right;\">\n",
       "      <th></th>\n",
       "      <th>forecast_date</th>\n",
       "      <th>euros_per_mwh</th>\n",
       "      <th>origin_date</th>\n",
       "      <th>data_block_id</th>\n",
       "    </tr>\n",
       "  </thead>\n",
       "  <tbody>\n",
       "    <tr>\n",
       "      <th>0</th>\n",
       "      <td>2021-09-01 00:00:00</td>\n",
       "      <td>92.51</td>\n",
       "      <td>2021-08-31 00:00:00</td>\n",
       "      <td>1</td>\n",
       "    </tr>\n",
       "    <tr>\n",
       "      <th>1</th>\n",
       "      <td>2021-09-01 01:00:00</td>\n",
       "      <td>88.90</td>\n",
       "      <td>2021-08-31 01:00:00</td>\n",
       "      <td>1</td>\n",
       "    </tr>\n",
       "    <tr>\n",
       "      <th>2</th>\n",
       "      <td>2021-09-01 02:00:00</td>\n",
       "      <td>87.35</td>\n",
       "      <td>2021-08-31 02:00:00</td>\n",
       "      <td>1</td>\n",
       "    </tr>\n",
       "    <tr>\n",
       "      <th>3</th>\n",
       "      <td>2021-09-01 03:00:00</td>\n",
       "      <td>86.88</td>\n",
       "      <td>2021-08-31 03:00:00</td>\n",
       "      <td>1</td>\n",
       "    </tr>\n",
       "    <tr>\n",
       "      <th>4</th>\n",
       "      <td>2021-09-01 04:00:00</td>\n",
       "      <td>88.43</td>\n",
       "      <td>2021-08-31 04:00:00</td>\n",
       "      <td>1</td>\n",
       "    </tr>\n",
       "  </tbody>\n",
       "</table>\n",
       "</div>"
      ],
      "text/plain": [
       "         forecast_date  euros_per_mwh          origin_date  data_block_id\n",
       "0  2021-09-01 00:00:00          92.51  2021-08-31 00:00:00              1\n",
       "1  2021-09-01 01:00:00          88.90  2021-08-31 01:00:00              1\n",
       "2  2021-09-01 02:00:00          87.35  2021-08-31 02:00:00              1\n",
       "3  2021-09-01 03:00:00          86.88  2021-08-31 03:00:00              1\n",
       "4  2021-09-01 04:00:00          88.43  2021-08-31 04:00:00              1"
      ]
     },
     "execution_count": 4,
     "metadata": {},
     "output_type": "execute_result"
    }
   ],
   "source": [
    "print(electricity_prices.shape)\n",
    "electricity_prices.head()"
   ]
  },
  {
   "cell_type": "code",
   "execution_count": 5,
   "metadata": {
    "colab": {
     "base_uri": "https://localhost:8080/"
    },
    "id": "21C9D8wYl_w7",
    "outputId": "46ec3fe4-c33e-4c57-9964-e013eed05f6a"
   },
   "outputs": [
    {
     "name": "stdout",
     "output_type": "stream",
     "text": [
      "(637, 5)\n"
     ]
    },
    {
     "data": {
      "text/html": [
       "<div>\n",
       "<style scoped>\n",
       "    .dataframe tbody tr th:only-of-type {\n",
       "        vertical-align: middle;\n",
       "    }\n",
       "\n",
       "    .dataframe tbody tr th {\n",
       "        vertical-align: top;\n",
       "    }\n",
       "\n",
       "    .dataframe thead th {\n",
       "        text-align: right;\n",
       "    }\n",
       "</style>\n",
       "<table border=\"1\" class=\"dataframe\">\n",
       "  <thead>\n",
       "    <tr style=\"text-align: right;\">\n",
       "      <th></th>\n",
       "      <th>forecast_date</th>\n",
       "      <th>lowest_price_per_mwh</th>\n",
       "      <th>highest_price_per_mwh</th>\n",
       "      <th>origin_date</th>\n",
       "      <th>data_block_id</th>\n",
       "    </tr>\n",
       "  </thead>\n",
       "  <tbody>\n",
       "    <tr>\n",
       "      <th>0</th>\n",
       "      <td>2021-09-01</td>\n",
       "      <td>45.23</td>\n",
       "      <td>46.32</td>\n",
       "      <td>2021-08-31</td>\n",
       "      <td>1</td>\n",
       "    </tr>\n",
       "    <tr>\n",
       "      <th>1</th>\n",
       "      <td>2021-09-02</td>\n",
       "      <td>45.62</td>\n",
       "      <td>46.29</td>\n",
       "      <td>2021-09-01</td>\n",
       "      <td>2</td>\n",
       "    </tr>\n",
       "    <tr>\n",
       "      <th>2</th>\n",
       "      <td>2021-09-03</td>\n",
       "      <td>45.85</td>\n",
       "      <td>46.40</td>\n",
       "      <td>2021-09-02</td>\n",
       "      <td>3</td>\n",
       "    </tr>\n",
       "    <tr>\n",
       "      <th>3</th>\n",
       "      <td>2021-09-04</td>\n",
       "      <td>46.30</td>\n",
       "      <td>46.80</td>\n",
       "      <td>2021-09-03</td>\n",
       "      <td>4</td>\n",
       "    </tr>\n",
       "    <tr>\n",
       "      <th>4</th>\n",
       "      <td>2021-09-05</td>\n",
       "      <td>46.30</td>\n",
       "      <td>46.58</td>\n",
       "      <td>2021-09-04</td>\n",
       "      <td>5</td>\n",
       "    </tr>\n",
       "  </tbody>\n",
       "</table>\n",
       "</div>"
      ],
      "text/plain": [
       "  forecast_date  lowest_price_per_mwh  highest_price_per_mwh origin_date  \\\n",
       "0    2021-09-01                 45.23                  46.32  2021-08-31   \n",
       "1    2021-09-02                 45.62                  46.29  2021-09-01   \n",
       "2    2021-09-03                 45.85                  46.40  2021-09-02   \n",
       "3    2021-09-04                 46.30                  46.80  2021-09-03   \n",
       "4    2021-09-05                 46.30                  46.58  2021-09-04   \n",
       "\n",
       "   data_block_id  \n",
       "0              1  \n",
       "1              2  \n",
       "2              3  \n",
       "3              4  \n",
       "4              5  "
      ]
     },
     "execution_count": 5,
     "metadata": {},
     "output_type": "execute_result"
    }
   ],
   "source": [
    "print(gas_prices.shape)\n",
    "gas_prices.head()"
   ]
  },
  {
   "cell_type": "code",
   "execution_count": 6,
   "metadata": {
    "colab": {
     "base_uri": "https://localhost:8080/"
    },
    "id": "pg4uid99mBIn",
    "outputId": "3930678a-7825-4e08-f6e3-3b80e17839c2"
   },
   "outputs": [
    {
     "name": "stdout",
     "output_type": "stream",
     "text": [
      "(1710802, 18)\n"
     ]
    },
    {
     "data": {
      "text/html": [
       "<div>\n",
       "<style scoped>\n",
       "    .dataframe tbody tr th:only-of-type {\n",
       "        vertical-align: middle;\n",
       "    }\n",
       "\n",
       "    .dataframe tbody tr th {\n",
       "        vertical-align: top;\n",
       "    }\n",
       "\n",
       "    .dataframe thead th {\n",
       "        text-align: right;\n",
       "    }\n",
       "</style>\n",
       "<table border=\"1\" class=\"dataframe\">\n",
       "  <thead>\n",
       "    <tr style=\"text-align: right;\">\n",
       "      <th></th>\n",
       "      <th>datetime</th>\n",
       "      <th>temperature</th>\n",
       "      <th>dewpoint</th>\n",
       "      <th>rain</th>\n",
       "      <th>snowfall</th>\n",
       "      <th>surface_pressure</th>\n",
       "      <th>cloudcover_total</th>\n",
       "      <th>cloudcover_low</th>\n",
       "      <th>cloudcover_mid</th>\n",
       "      <th>cloudcover_high</th>\n",
       "      <th>windspeed_10m</th>\n",
       "      <th>winddirection_10m</th>\n",
       "      <th>shortwave_radiation</th>\n",
       "      <th>direct_solar_radiation</th>\n",
       "      <th>diffuse_radiation</th>\n",
       "      <th>latitude</th>\n",
       "      <th>longitude</th>\n",
       "      <th>data_block_id</th>\n",
       "    </tr>\n",
       "  </thead>\n",
       "  <tbody>\n",
       "    <tr>\n",
       "      <th>0</th>\n",
       "      <td>2021-09-01 00:00:00</td>\n",
       "      <td>14.2</td>\n",
       "      <td>11.6</td>\n",
       "      <td>0.0</td>\n",
       "      <td>0.0</td>\n",
       "      <td>1015.9</td>\n",
       "      <td>31</td>\n",
       "      <td>31</td>\n",
       "      <td>0</td>\n",
       "      <td>11</td>\n",
       "      <td>7.083333</td>\n",
       "      <td>8</td>\n",
       "      <td>0.0</td>\n",
       "      <td>0.0</td>\n",
       "      <td>0.0</td>\n",
       "      <td>57.6</td>\n",
       "      <td>21.7</td>\n",
       "      <td>1.0</td>\n",
       "    </tr>\n",
       "    <tr>\n",
       "      <th>1</th>\n",
       "      <td>2021-09-01 00:00:00</td>\n",
       "      <td>13.9</td>\n",
       "      <td>11.5</td>\n",
       "      <td>0.0</td>\n",
       "      <td>0.0</td>\n",
       "      <td>1010.7</td>\n",
       "      <td>33</td>\n",
       "      <td>37</td>\n",
       "      <td>0</td>\n",
       "      <td>0</td>\n",
       "      <td>5.111111</td>\n",
       "      <td>359</td>\n",
       "      <td>0.0</td>\n",
       "      <td>0.0</td>\n",
       "      <td>0.0</td>\n",
       "      <td>57.6</td>\n",
       "      <td>22.2</td>\n",
       "      <td>1.0</td>\n",
       "    </tr>\n",
       "    <tr>\n",
       "      <th>2</th>\n",
       "      <td>2021-09-01 00:00:00</td>\n",
       "      <td>14.0</td>\n",
       "      <td>12.5</td>\n",
       "      <td>0.0</td>\n",
       "      <td>0.0</td>\n",
       "      <td>1015.0</td>\n",
       "      <td>31</td>\n",
       "      <td>34</td>\n",
       "      <td>0</td>\n",
       "      <td>0</td>\n",
       "      <td>6.333333</td>\n",
       "      <td>355</td>\n",
       "      <td>0.0</td>\n",
       "      <td>0.0</td>\n",
       "      <td>0.0</td>\n",
       "      <td>57.6</td>\n",
       "      <td>22.7</td>\n",
       "      <td>1.0</td>\n",
       "    </tr>\n",
       "    <tr>\n",
       "      <th>3</th>\n",
       "      <td>2021-09-01 00:00:00</td>\n",
       "      <td>14.6</td>\n",
       "      <td>11.5</td>\n",
       "      <td>0.0</td>\n",
       "      <td>0.0</td>\n",
       "      <td>1017.3</td>\n",
       "      <td>0</td>\n",
       "      <td>0</td>\n",
       "      <td>0</td>\n",
       "      <td>0</td>\n",
       "      <td>8.083333</td>\n",
       "      <td>297</td>\n",
       "      <td>358.0</td>\n",
       "      <td>277.0</td>\n",
       "      <td>81.0</td>\n",
       "      <td>57.6</td>\n",
       "      <td>23.2</td>\n",
       "      <td>1.0</td>\n",
       "    </tr>\n",
       "    <tr>\n",
       "      <th>4</th>\n",
       "      <td>2021-09-01 00:00:00</td>\n",
       "      <td>15.7</td>\n",
       "      <td>12.9</td>\n",
       "      <td>0.0</td>\n",
       "      <td>0.0</td>\n",
       "      <td>1014.0</td>\n",
       "      <td>22</td>\n",
       "      <td>25</td>\n",
       "      <td>0</td>\n",
       "      <td>0</td>\n",
       "      <td>8.416667</td>\n",
       "      <td>5</td>\n",
       "      <td>0.0</td>\n",
       "      <td>0.0</td>\n",
       "      <td>0.0</td>\n",
       "      <td>57.6</td>\n",
       "      <td>23.7</td>\n",
       "      <td>1.0</td>\n",
       "    </tr>\n",
       "  </tbody>\n",
       "</table>\n",
       "</div>"
      ],
      "text/plain": [
       "              datetime  temperature  dewpoint  rain  snowfall  \\\n",
       "0  2021-09-01 00:00:00         14.2      11.6   0.0       0.0   \n",
       "1  2021-09-01 00:00:00         13.9      11.5   0.0       0.0   \n",
       "2  2021-09-01 00:00:00         14.0      12.5   0.0       0.0   \n",
       "3  2021-09-01 00:00:00         14.6      11.5   0.0       0.0   \n",
       "4  2021-09-01 00:00:00         15.7      12.9   0.0       0.0   \n",
       "\n",
       "   surface_pressure  cloudcover_total  cloudcover_low  cloudcover_mid  \\\n",
       "0            1015.9                31              31               0   \n",
       "1            1010.7                33              37               0   \n",
       "2            1015.0                31              34               0   \n",
       "3            1017.3                 0               0               0   \n",
       "4            1014.0                22              25               0   \n",
       "\n",
       "   cloudcover_high  windspeed_10m  winddirection_10m  shortwave_radiation  \\\n",
       "0               11       7.083333                  8                  0.0   \n",
       "1                0       5.111111                359                  0.0   \n",
       "2                0       6.333333                355                  0.0   \n",
       "3                0       8.083333                297                358.0   \n",
       "4                0       8.416667                  5                  0.0   \n",
       "\n",
       "   direct_solar_radiation  diffuse_radiation  latitude  longitude  \\\n",
       "0                     0.0                0.0      57.6       21.7   \n",
       "1                     0.0                0.0      57.6       22.2   \n",
       "2                     0.0                0.0      57.6       22.7   \n",
       "3                   277.0               81.0      57.6       23.2   \n",
       "4                     0.0                0.0      57.6       23.7   \n",
       "\n",
       "   data_block_id  \n",
       "0            1.0  \n",
       "1            1.0  \n",
       "2            1.0  \n",
       "3            1.0  \n",
       "4            1.0  "
      ]
     },
     "execution_count": 6,
     "metadata": {},
     "output_type": "execute_result"
    }
   ],
   "source": [
    "print(historical_weather.shape)\n",
    "historical_weather.head()"
   ]
  },
  {
   "cell_type": "code",
   "execution_count": 7,
   "metadata": {
    "colab": {
     "base_uri": "https://localhost:8080/"
    },
    "id": "Uk-dmVkHXRtg",
    "outputId": "b8190485-a240-46e4-fd63-acaaad65afa6"
   },
   "outputs": [
    {
     "name": "stdout",
     "output_type": "stream",
     "text": [
      "(41919, 7)\n"
     ]
    },
    {
     "data": {
      "text/html": [
       "<div>\n",
       "<style scoped>\n",
       "    .dataframe tbody tr th:only-of-type {\n",
       "        vertical-align: middle;\n",
       "    }\n",
       "\n",
       "    .dataframe tbody tr th {\n",
       "        vertical-align: top;\n",
       "    }\n",
       "\n",
       "    .dataframe thead th {\n",
       "        text-align: right;\n",
       "    }\n",
       "</style>\n",
       "<table border=\"1\" class=\"dataframe\">\n",
       "  <thead>\n",
       "    <tr style=\"text-align: right;\">\n",
       "      <th></th>\n",
       "      <th>product_type</th>\n",
       "      <th>county</th>\n",
       "      <th>eic_count</th>\n",
       "      <th>installed_capacity</th>\n",
       "      <th>is_business</th>\n",
       "      <th>date</th>\n",
       "      <th>data_block_id</th>\n",
       "    </tr>\n",
       "  </thead>\n",
       "  <tbody>\n",
       "    <tr>\n",
       "      <th>0</th>\n",
       "      <td>1</td>\n",
       "      <td>0</td>\n",
       "      <td>108</td>\n",
       "      <td>952.89</td>\n",
       "      <td>0</td>\n",
       "      <td>2021-09-01</td>\n",
       "      <td>2</td>\n",
       "    </tr>\n",
       "    <tr>\n",
       "      <th>1</th>\n",
       "      <td>2</td>\n",
       "      <td>0</td>\n",
       "      <td>17</td>\n",
       "      <td>166.40</td>\n",
       "      <td>0</td>\n",
       "      <td>2021-09-01</td>\n",
       "      <td>2</td>\n",
       "    </tr>\n",
       "    <tr>\n",
       "      <th>2</th>\n",
       "      <td>3</td>\n",
       "      <td>0</td>\n",
       "      <td>688</td>\n",
       "      <td>7207.88</td>\n",
       "      <td>0</td>\n",
       "      <td>2021-09-01</td>\n",
       "      <td>2</td>\n",
       "    </tr>\n",
       "    <tr>\n",
       "      <th>3</th>\n",
       "      <td>0</td>\n",
       "      <td>0</td>\n",
       "      <td>5</td>\n",
       "      <td>400.00</td>\n",
       "      <td>1</td>\n",
       "      <td>2021-09-01</td>\n",
       "      <td>2</td>\n",
       "    </tr>\n",
       "    <tr>\n",
       "      <th>4</th>\n",
       "      <td>1</td>\n",
       "      <td>0</td>\n",
       "      <td>43</td>\n",
       "      <td>1411.00</td>\n",
       "      <td>1</td>\n",
       "      <td>2021-09-01</td>\n",
       "      <td>2</td>\n",
       "    </tr>\n",
       "  </tbody>\n",
       "</table>\n",
       "</div>"
      ],
      "text/plain": [
       "   product_type  county  eic_count  installed_capacity  is_business  \\\n",
       "0             1       0        108              952.89            0   \n",
       "1             2       0         17              166.40            0   \n",
       "2             3       0        688             7207.88            0   \n",
       "3             0       0          5              400.00            1   \n",
       "4             1       0         43             1411.00            1   \n",
       "\n",
       "         date  data_block_id  \n",
       "0  2021-09-01              2  \n",
       "1  2021-09-01              2  \n",
       "2  2021-09-01              2  \n",
       "3  2021-09-01              2  \n",
       "4  2021-09-01              2  "
      ]
     },
     "execution_count": 7,
     "metadata": {},
     "output_type": "execute_result"
    }
   ],
   "source": [
    "print(client.shape)\n",
    "client.head()"
   ]
  },
  {
   "cell_type": "code",
   "execution_count": 8,
   "metadata": {
    "colab": {
     "base_uri": "https://localhost:8080/"
    },
    "id": "_9goKXfDmDHa",
    "outputId": "30479a2c-8b4a-4a7a-a58b-8d869a26d5a1"
   },
   "outputs": [
    {
     "name": "stdout",
     "output_type": "stream",
     "text": [
      "(2018352, 9)\n"
     ]
    },
    {
     "data": {
      "text/html": [
       "<div>\n",
       "<style scoped>\n",
       "    .dataframe tbody tr th:only-of-type {\n",
       "        vertical-align: middle;\n",
       "    }\n",
       "\n",
       "    .dataframe tbody tr th {\n",
       "        vertical-align: top;\n",
       "    }\n",
       "\n",
       "    .dataframe thead th {\n",
       "        text-align: right;\n",
       "    }\n",
       "</style>\n",
       "<table border=\"1\" class=\"dataframe\">\n",
       "  <thead>\n",
       "    <tr style=\"text-align: right;\">\n",
       "      <th></th>\n",
       "      <th>county</th>\n",
       "      <th>is_business</th>\n",
       "      <th>product_type</th>\n",
       "      <th>target</th>\n",
       "      <th>is_consumption</th>\n",
       "      <th>datetime</th>\n",
       "      <th>data_block_id</th>\n",
       "      <th>row_id</th>\n",
       "      <th>prediction_unit_id</th>\n",
       "    </tr>\n",
       "  </thead>\n",
       "  <tbody>\n",
       "    <tr>\n",
       "      <th>0</th>\n",
       "      <td>0</td>\n",
       "      <td>0</td>\n",
       "      <td>1</td>\n",
       "      <td>0.713</td>\n",
       "      <td>0</td>\n",
       "      <td>2021-09-01 00:00:00</td>\n",
       "      <td>0</td>\n",
       "      <td>0</td>\n",
       "      <td>0</td>\n",
       "    </tr>\n",
       "    <tr>\n",
       "      <th>1</th>\n",
       "      <td>0</td>\n",
       "      <td>0</td>\n",
       "      <td>1</td>\n",
       "      <td>96.590</td>\n",
       "      <td>1</td>\n",
       "      <td>2021-09-01 00:00:00</td>\n",
       "      <td>0</td>\n",
       "      <td>1</td>\n",
       "      <td>0</td>\n",
       "    </tr>\n",
       "    <tr>\n",
       "      <th>2</th>\n",
       "      <td>0</td>\n",
       "      <td>0</td>\n",
       "      <td>2</td>\n",
       "      <td>0.000</td>\n",
       "      <td>0</td>\n",
       "      <td>2021-09-01 00:00:00</td>\n",
       "      <td>0</td>\n",
       "      <td>2</td>\n",
       "      <td>1</td>\n",
       "    </tr>\n",
       "    <tr>\n",
       "      <th>3</th>\n",
       "      <td>0</td>\n",
       "      <td>0</td>\n",
       "      <td>2</td>\n",
       "      <td>17.314</td>\n",
       "      <td>1</td>\n",
       "      <td>2021-09-01 00:00:00</td>\n",
       "      <td>0</td>\n",
       "      <td>3</td>\n",
       "      <td>1</td>\n",
       "    </tr>\n",
       "    <tr>\n",
       "      <th>4</th>\n",
       "      <td>0</td>\n",
       "      <td>0</td>\n",
       "      <td>3</td>\n",
       "      <td>2.904</td>\n",
       "      <td>0</td>\n",
       "      <td>2021-09-01 00:00:00</td>\n",
       "      <td>0</td>\n",
       "      <td>4</td>\n",
       "      <td>2</td>\n",
       "    </tr>\n",
       "  </tbody>\n",
       "</table>\n",
       "</div>"
      ],
      "text/plain": [
       "   county  is_business  product_type  target  is_consumption  \\\n",
       "0       0            0             1   0.713               0   \n",
       "1       0            0             1  96.590               1   \n",
       "2       0            0             2   0.000               0   \n",
       "3       0            0             2  17.314               1   \n",
       "4       0            0             3   2.904               0   \n",
       "\n",
       "              datetime  data_block_id  row_id  prediction_unit_id  \n",
       "0  2021-09-01 00:00:00              0       0                   0  \n",
       "1  2021-09-01 00:00:00              0       1                   0  \n",
       "2  2021-09-01 00:00:00              0       2                   1  \n",
       "3  2021-09-01 00:00:00              0       3                   1  \n",
       "4  2021-09-01 00:00:00              0       4                   2  "
      ]
     },
     "execution_count": 8,
     "metadata": {},
     "output_type": "execute_result"
    }
   ],
   "source": [
    "print(train.shape)\n",
    "train.head()"
   ]
  },
  {
   "cell_type": "code",
   "execution_count": 9,
   "metadata": {
    "id": "YkUprPMpN6bv"
   },
   "outputs": [],
   "source": [
    "# Function to group data\n",
    "def group_df(base_df, group_cols, group_data={'target': 'sum'}):\n",
    "    df = base_df.groupby(group_cols).agg(group_data)\n",
    "    df.reset_index(inplace=True)\n",
    "    return df"
   ]
  },
  {
   "cell_type": "markdown",
   "metadata": {
    "id": "qVM6A8sj09a_"
   },
   "source": [
    "# Add county to historical_weather dataset"
   ]
  },
  {
   "cell_type": "code",
   "execution_count": 10,
   "metadata": {
    "colab": {
     "base_uri": "https://localhost:8080/"
    },
    "id": "yPbdee1LWfWq",
    "outputId": "0fe9f463-8d6d-48f8-c21f-ea79e39e9964"
   },
   "outputs": [
    {
     "data": {
      "text/html": [
       "<div>\n",
       "<style scoped>\n",
       "    .dataframe tbody tr th:only-of-type {\n",
       "        vertical-align: middle;\n",
       "    }\n",
       "\n",
       "    .dataframe tbody tr th {\n",
       "        vertical-align: top;\n",
       "    }\n",
       "\n",
       "    .dataframe thead th {\n",
       "        text-align: right;\n",
       "    }\n",
       "</style>\n",
       "<table border=\"1\" class=\"dataframe\">\n",
       "  <thead>\n",
       "    <tr style=\"text-align: right;\">\n",
       "      <th></th>\n",
       "      <th>longitude</th>\n",
       "      <th>latitude</th>\n",
       "    </tr>\n",
       "  </thead>\n",
       "  <tbody>\n",
       "    <tr>\n",
       "      <th>0</th>\n",
       "      <td>21.7</td>\n",
       "      <td>57.6</td>\n",
       "    </tr>\n",
       "    <tr>\n",
       "      <th>1</th>\n",
       "      <td>22.2</td>\n",
       "      <td>57.6</td>\n",
       "    </tr>\n",
       "    <tr>\n",
       "      <th>2</th>\n",
       "      <td>22.7</td>\n",
       "      <td>57.6</td>\n",
       "    </tr>\n",
       "    <tr>\n",
       "      <th>3</th>\n",
       "      <td>23.2</td>\n",
       "      <td>57.6</td>\n",
       "    </tr>\n",
       "    <tr>\n",
       "      <th>4</th>\n",
       "      <td>23.7</td>\n",
       "      <td>57.6</td>\n",
       "    </tr>\n",
       "    <tr>\n",
       "      <th>...</th>\n",
       "      <td>...</td>\n",
       "      <td>...</td>\n",
       "    </tr>\n",
       "    <tr>\n",
       "      <th>107</th>\n",
       "      <td>26.2</td>\n",
       "      <td>59.7</td>\n",
       "    </tr>\n",
       "    <tr>\n",
       "      <th>108</th>\n",
       "      <td>26.7</td>\n",
       "      <td>59.7</td>\n",
       "    </tr>\n",
       "    <tr>\n",
       "      <th>109</th>\n",
       "      <td>27.2</td>\n",
       "      <td>59.7</td>\n",
       "    </tr>\n",
       "    <tr>\n",
       "      <th>110</th>\n",
       "      <td>27.7</td>\n",
       "      <td>59.7</td>\n",
       "    </tr>\n",
       "    <tr>\n",
       "      <th>111</th>\n",
       "      <td>28.2</td>\n",
       "      <td>59.7</td>\n",
       "    </tr>\n",
       "  </tbody>\n",
       "</table>\n",
       "<p>112 rows × 2 columns</p>\n",
       "</div>"
      ],
      "text/plain": [
       "     longitude  latitude\n",
       "0         21.7      57.6\n",
       "1         22.2      57.6\n",
       "2         22.7      57.6\n",
       "3         23.2      57.6\n",
       "4         23.7      57.6\n",
       "..         ...       ...\n",
       "107       26.2      59.7\n",
       "108       26.7      59.7\n",
       "109       27.2      59.7\n",
       "110       27.7      59.7\n",
       "111       28.2      59.7\n",
       "\n",
       "[112 rows x 2 columns]"
      ]
     },
     "execution_count": 10,
     "metadata": {},
     "output_type": "execute_result"
    }
   ],
   "source": [
    "# Get unique coordinates\n",
    "coordinates = historical_weather[['longitude', 'latitude']].drop_duplicates()\n",
    "coordinates"
   ]
  },
  {
   "cell_type": "code",
   "execution_count": 11,
   "metadata": {
    "colab": {
     "base_uri": "https://localhost:8080/"
    },
    "id": "QqgS-iKOH6XA",
    "outputId": "15511d8a-e83b-4de5-ad47-c6e9aaddc70f"
   },
   "outputs": [
    {
     "data": {
      "text/html": [
       "<div>\n",
       "<style scoped>\n",
       "    .dataframe tbody tr th:only-of-type {\n",
       "        vertical-align: middle;\n",
       "    }\n",
       "\n",
       "    .dataframe tbody tr th {\n",
       "        vertical-align: top;\n",
       "    }\n",
       "\n",
       "    .dataframe thead th {\n",
       "        text-align: right;\n",
       "    }\n",
       "</style>\n",
       "<table border=\"1\" class=\"dataframe\">\n",
       "  <thead>\n",
       "    <tr style=\"text-align: right;\">\n",
       "      <th></th>\n",
       "      <th>longitude</th>\n",
       "      <th>latitude</th>\n",
       "      <th>county</th>\n",
       "    </tr>\n",
       "  </thead>\n",
       "  <tbody>\n",
       "    <tr>\n",
       "      <th>0</th>\n",
       "      <td>21.7</td>\n",
       "      <td>57.6</td>\n",
       "      <td>Unknown</td>\n",
       "    </tr>\n",
       "    <tr>\n",
       "      <th>1</th>\n",
       "      <td>22.2</td>\n",
       "      <td>57.6</td>\n",
       "      <td>Unknown</td>\n",
       "    </tr>\n",
       "    <tr>\n",
       "      <th>2</th>\n",
       "      <td>22.7</td>\n",
       "      <td>57.6</td>\n",
       "      <td>Unknown</td>\n",
       "    </tr>\n",
       "    <tr>\n",
       "      <th>3</th>\n",
       "      <td>23.2</td>\n",
       "      <td>57.6</td>\n",
       "      <td>Saare County</td>\n",
       "    </tr>\n",
       "    <tr>\n",
       "      <th>4</th>\n",
       "      <td>23.7</td>\n",
       "      <td>57.6</td>\n",
       "      <td>Unknown</td>\n",
       "    </tr>\n",
       "    <tr>\n",
       "      <th>...</th>\n",
       "      <td>...</td>\n",
       "      <td>...</td>\n",
       "      <td>...</td>\n",
       "    </tr>\n",
       "    <tr>\n",
       "      <th>107</th>\n",
       "      <td>26.2</td>\n",
       "      <td>59.7</td>\n",
       "      <td>Lääne-Viru County</td>\n",
       "    </tr>\n",
       "    <tr>\n",
       "      <th>108</th>\n",
       "      <td>26.7</td>\n",
       "      <td>59.7</td>\n",
       "      <td>Lääne-Viru County</td>\n",
       "    </tr>\n",
       "    <tr>\n",
       "      <th>109</th>\n",
       "      <td>27.2</td>\n",
       "      <td>59.7</td>\n",
       "      <td>Jaama District</td>\n",
       "    </tr>\n",
       "    <tr>\n",
       "      <th>110</th>\n",
       "      <td>27.7</td>\n",
       "      <td>59.7</td>\n",
       "      <td>Jaama District</td>\n",
       "    </tr>\n",
       "    <tr>\n",
       "      <th>111</th>\n",
       "      <td>28.2</td>\n",
       "      <td>59.7</td>\n",
       "      <td>Jaama District</td>\n",
       "    </tr>\n",
       "  </tbody>\n",
       "</table>\n",
       "<p>112 rows × 3 columns</p>\n",
       "</div>"
      ],
      "text/plain": [
       "     longitude  latitude             county\n",
       "0         21.7      57.6            Unknown\n",
       "1         22.2      57.6            Unknown\n",
       "2         22.7      57.6            Unknown\n",
       "3         23.2      57.6       Saare County\n",
       "4         23.7      57.6            Unknown\n",
       "..         ...       ...                ...\n",
       "107       26.2      59.7  Lääne-Viru County\n",
       "108       26.7      59.7  Lääne-Viru County\n",
       "109       27.2      59.7     Jaama District\n",
       "110       27.7      59.7     Jaama District\n",
       "111       28.2      59.7     Jaama District\n",
       "\n",
       "[112 rows x 3 columns]"
      ]
     },
     "execution_count": 11,
     "metadata": {},
     "output_type": "execute_result"
    }
   ],
   "source": [
    "# Get location of coordinates\n",
    "unknown = 0\n",
    "coordinates['county'] = ''\n",
    "geolocator = Nominatim(user_agent=\"county_locator\")\n",
    "\n",
    "for i in range(len(coordinates)):\n",
    "\n",
    "    latitude, longitude = coordinates.loc[i, 'latitude'], coordinates.loc[i, 'longitude']\n",
    "    location = geolocator.reverse((latitude, longitude), language=\"en\")\n",
    "\n",
    "    if location:\n",
    "        address = location.raw.get(\"address\", {})\n",
    "        county = address.get(\"county\", \"Unknown\")\n",
    "        coordinates.loc[i, 'county'] = str(county)\n",
    "    else:\n",
    "        unknown += 1\n",
    "        coordinates.loc[i, 'county'] = 'Unknown'\n",
    "coordinates"
   ]
  },
  {
   "cell_type": "code",
   "execution_count": 12,
   "metadata": {
    "colab": {
     "base_uri": "https://localhost:8080/"
    },
    "id": "mQq6VD6OYf1h",
    "outputId": "e8a5e784-8a3a-4697-c491-75fb3852fc08"
   },
   "outputs": [
    {
     "data": {
      "text/plain": [
       "array(['Unknown', 'Saare County', 'Võru County', 'Pechorsky District',\n",
       "       'Palkinsky District', 'Pärnu County', 'Valga County',\n",
       "       'Pskovsky District', 'Viljandi County', 'Tartu County',\n",
       "       'Põlva County', 'Gdovsky District', 'Jõgeva County', 'Hiiu County',\n",
       "       'Lääne County', 'Rapla County', 'Järva County', 'Harju County',\n",
       "       'Lääne-Viru County', 'Ida-Viru County', 'Slantsevsky District',\n",
       "       'Jaama District', 'Uusimaa'], dtype=object)"
      ]
     },
     "execution_count": 12,
     "metadata": {},
     "output_type": "execute_result"
    }
   ],
   "source": [
    "# Locations found\n",
    "coordinates.county.unique()"
   ]
  },
  {
   "cell_type": "markdown",
   "metadata": {
    "id": "IRfJ25dRc8f3"
   },
   "source": [
    "**Conclusiones**\n",
    "\n",
    "- Se pueden eliminar los registros del clima de las siguientes locaciones, ya que NO pertenecen a ningun lugar de Estonia: Unknown, Uusimaa, Slantsevsky District, Jaama District, Gdovsky District, Pskovsky District, Pechorsky District, Palkinsky District.\n",
    "- Se pueden identificar los 15 counties que existen en Estonia."
   ]
  },
  {
   "cell_type": "code",
   "execution_count": 13,
   "metadata": {
    "colab": {
     "base_uri": "https://localhost:8080/"
    },
    "id": "JdfYJiOVeU5x",
    "outputId": "a7386241-051d-414d-c2c6-02e9b459e46b"
   },
   "outputs": [
    {
     "data": {
      "text/html": [
       "<div>\n",
       "<style scoped>\n",
       "    .dataframe tbody tr th:only-of-type {\n",
       "        vertical-align: middle;\n",
       "    }\n",
       "\n",
       "    .dataframe tbody tr th {\n",
       "        vertical-align: top;\n",
       "    }\n",
       "\n",
       "    .dataframe thead th {\n",
       "        text-align: right;\n",
       "    }\n",
       "</style>\n",
       "<table border=\"1\" class=\"dataframe\">\n",
       "  <thead>\n",
       "    <tr style=\"text-align: right;\">\n",
       "      <th></th>\n",
       "      <th>datetime</th>\n",
       "      <th>temperature</th>\n",
       "      <th>dewpoint</th>\n",
       "      <th>rain</th>\n",
       "      <th>snowfall</th>\n",
       "      <th>surface_pressure</th>\n",
       "      <th>cloudcover_total</th>\n",
       "      <th>cloudcover_low</th>\n",
       "      <th>cloudcover_mid</th>\n",
       "      <th>cloudcover_high</th>\n",
       "      <th>windspeed_10m</th>\n",
       "      <th>winddirection_10m</th>\n",
       "      <th>shortwave_radiation</th>\n",
       "      <th>direct_solar_radiation</th>\n",
       "      <th>diffuse_radiation</th>\n",
       "      <th>data_block_id</th>\n",
       "      <th>county</th>\n",
       "    </tr>\n",
       "  </thead>\n",
       "  <tbody>\n",
       "    <tr>\n",
       "      <th>0</th>\n",
       "      <td>2021-09-01 00:00:00</td>\n",
       "      <td>14.2</td>\n",
       "      <td>11.6</td>\n",
       "      <td>0.0</td>\n",
       "      <td>0.0</td>\n",
       "      <td>1015.9</td>\n",
       "      <td>31</td>\n",
       "      <td>31</td>\n",
       "      <td>0</td>\n",
       "      <td>11</td>\n",
       "      <td>7.083333</td>\n",
       "      <td>8</td>\n",
       "      <td>0.0</td>\n",
       "      <td>0.0</td>\n",
       "      <td>0.0</td>\n",
       "      <td>1.0</td>\n",
       "      <td>Unknown</td>\n",
       "    </tr>\n",
       "    <tr>\n",
       "      <th>1</th>\n",
       "      <td>2021-09-01 00:00:00</td>\n",
       "      <td>13.9</td>\n",
       "      <td>11.5</td>\n",
       "      <td>0.0</td>\n",
       "      <td>0.0</td>\n",
       "      <td>1010.7</td>\n",
       "      <td>33</td>\n",
       "      <td>37</td>\n",
       "      <td>0</td>\n",
       "      <td>0</td>\n",
       "      <td>5.111111</td>\n",
       "      <td>359</td>\n",
       "      <td>0.0</td>\n",
       "      <td>0.0</td>\n",
       "      <td>0.0</td>\n",
       "      <td>1.0</td>\n",
       "      <td>Unknown</td>\n",
       "    </tr>\n",
       "    <tr>\n",
       "      <th>2</th>\n",
       "      <td>2021-09-01 00:00:00</td>\n",
       "      <td>14.0</td>\n",
       "      <td>12.5</td>\n",
       "      <td>0.0</td>\n",
       "      <td>0.0</td>\n",
       "      <td>1015.0</td>\n",
       "      <td>31</td>\n",
       "      <td>34</td>\n",
       "      <td>0</td>\n",
       "      <td>0</td>\n",
       "      <td>6.333333</td>\n",
       "      <td>355</td>\n",
       "      <td>0.0</td>\n",
       "      <td>0.0</td>\n",
       "      <td>0.0</td>\n",
       "      <td>1.0</td>\n",
       "      <td>Unknown</td>\n",
       "    </tr>\n",
       "    <tr>\n",
       "      <th>3</th>\n",
       "      <td>2021-09-01 00:00:00</td>\n",
       "      <td>14.6</td>\n",
       "      <td>11.5</td>\n",
       "      <td>0.0</td>\n",
       "      <td>0.0</td>\n",
       "      <td>1017.3</td>\n",
       "      <td>0</td>\n",
       "      <td>0</td>\n",
       "      <td>0</td>\n",
       "      <td>0</td>\n",
       "      <td>8.083333</td>\n",
       "      <td>297</td>\n",
       "      <td>358.0</td>\n",
       "      <td>277.0</td>\n",
       "      <td>81.0</td>\n",
       "      <td>1.0</td>\n",
       "      <td>Saare County</td>\n",
       "    </tr>\n",
       "    <tr>\n",
       "      <th>4</th>\n",
       "      <td>2021-09-01 00:00:00</td>\n",
       "      <td>15.7</td>\n",
       "      <td>12.9</td>\n",
       "      <td>0.0</td>\n",
       "      <td>0.0</td>\n",
       "      <td>1014.0</td>\n",
       "      <td>22</td>\n",
       "      <td>25</td>\n",
       "      <td>0</td>\n",
       "      <td>0</td>\n",
       "      <td>8.416667</td>\n",
       "      <td>5</td>\n",
       "      <td>0.0</td>\n",
       "      <td>0.0</td>\n",
       "      <td>0.0</td>\n",
       "      <td>1.0</td>\n",
       "      <td>Unknown</td>\n",
       "    </tr>\n",
       "  </tbody>\n",
       "</table>\n",
       "</div>"
      ],
      "text/plain": [
       "              datetime  temperature  dewpoint  rain  snowfall  \\\n",
       "0  2021-09-01 00:00:00         14.2      11.6   0.0       0.0   \n",
       "1  2021-09-01 00:00:00         13.9      11.5   0.0       0.0   \n",
       "2  2021-09-01 00:00:00         14.0      12.5   0.0       0.0   \n",
       "3  2021-09-01 00:00:00         14.6      11.5   0.0       0.0   \n",
       "4  2021-09-01 00:00:00         15.7      12.9   0.0       0.0   \n",
       "\n",
       "   surface_pressure  cloudcover_total  cloudcover_low  cloudcover_mid  \\\n",
       "0            1015.9                31              31               0   \n",
       "1            1010.7                33              37               0   \n",
       "2            1015.0                31              34               0   \n",
       "3            1017.3                 0               0               0   \n",
       "4            1014.0                22              25               0   \n",
       "\n",
       "   cloudcover_high  windspeed_10m  winddirection_10m  shortwave_radiation  \\\n",
       "0               11       7.083333                  8                  0.0   \n",
       "1                0       5.111111                359                  0.0   \n",
       "2                0       6.333333                355                  0.0   \n",
       "3                0       8.083333                297                358.0   \n",
       "4                0       8.416667                  5                  0.0   \n",
       "\n",
       "   direct_solar_radiation  diffuse_radiation  data_block_id        county  \n",
       "0                     0.0                0.0            1.0       Unknown  \n",
       "1                     0.0                0.0            1.0       Unknown  \n",
       "2                     0.0                0.0            1.0       Unknown  \n",
       "3                   277.0               81.0            1.0  Saare County  \n",
       "4                     0.0                0.0            1.0       Unknown  "
      ]
     },
     "execution_count": 13,
     "metadata": {},
     "output_type": "execute_result"
    }
   ],
   "source": [
    "# Merge historical_weather with location\n",
    "historical_weather = historical_weather.merge(\n",
    "    coordinates[['latitude', 'longitude', 'county']],\n",
    "    on=['latitude', 'longitude']\n",
    ")\n",
    "historical_weather = historical_weather.drop(['longitude', 'latitude'], axis=1)\n",
    "historical_weather.head()"
   ]
  },
  {
   "cell_type": "code",
   "execution_count": 14,
   "metadata": {
    "colab": {
     "base_uri": "https://localhost:8080/"
    },
    "id": "JmADKg2ifDni",
    "outputId": "c0ae8dda-8ddd-42dd-d4f3-8181c30d8f20"
   },
   "outputs": [
    {
     "data": {
      "text/html": [
       "<div>\n",
       "<style scoped>\n",
       "    .dataframe tbody tr th:only-of-type {\n",
       "        vertical-align: middle;\n",
       "    }\n",
       "\n",
       "    .dataframe tbody tr th {\n",
       "        vertical-align: top;\n",
       "    }\n",
       "\n",
       "    .dataframe thead th {\n",
       "        text-align: right;\n",
       "    }\n",
       "</style>\n",
       "<table border=\"1\" class=\"dataframe\">\n",
       "  <thead>\n",
       "    <tr style=\"text-align: right;\">\n",
       "      <th></th>\n",
       "      <th>datetime</th>\n",
       "      <th>temperature</th>\n",
       "      <th>dewpoint</th>\n",
       "      <th>rain</th>\n",
       "      <th>snowfall</th>\n",
       "      <th>surface_pressure</th>\n",
       "      <th>cloudcover_total</th>\n",
       "      <th>cloudcover_low</th>\n",
       "      <th>cloudcover_mid</th>\n",
       "      <th>cloudcover_high</th>\n",
       "      <th>windspeed_10m</th>\n",
       "      <th>winddirection_10m</th>\n",
       "      <th>shortwave_radiation</th>\n",
       "      <th>direct_solar_radiation</th>\n",
       "      <th>diffuse_radiation</th>\n",
       "      <th>data_block_id</th>\n",
       "      <th>county</th>\n",
       "    </tr>\n",
       "  </thead>\n",
       "  <tbody>\n",
       "    <tr>\n",
       "      <th>3</th>\n",
       "      <td>2021-09-01 00:00:00</td>\n",
       "      <td>14.6</td>\n",
       "      <td>11.5</td>\n",
       "      <td>0.0</td>\n",
       "      <td>0.0</td>\n",
       "      <td>1017.3</td>\n",
       "      <td>0</td>\n",
       "      <td>0</td>\n",
       "      <td>0</td>\n",
       "      <td>0</td>\n",
       "      <td>8.083333</td>\n",
       "      <td>297</td>\n",
       "      <td>358.0</td>\n",
       "      <td>277.0</td>\n",
       "      <td>81.0</td>\n",
       "      <td>1.0</td>\n",
       "      <td>Saare County</td>\n",
       "    </tr>\n",
       "    <tr>\n",
       "      <th>10</th>\n",
       "      <td>2021-09-01 00:00:00</td>\n",
       "      <td>13.0</td>\n",
       "      <td>11.5</td>\n",
       "      <td>0.0</td>\n",
       "      <td>0.0</td>\n",
       "      <td>998.5</td>\n",
       "      <td>100</td>\n",
       "      <td>85</td>\n",
       "      <td>17</td>\n",
       "      <td>98</td>\n",
       "      <td>4.027778</td>\n",
       "      <td>354</td>\n",
       "      <td>0.0</td>\n",
       "      <td>0.0</td>\n",
       "      <td>0.0</td>\n",
       "      <td>1.0</td>\n",
       "      <td>Võru County</td>\n",
       "    </tr>\n",
       "    <tr>\n",
       "      <th>11</th>\n",
       "      <td>2021-09-01 00:00:00</td>\n",
       "      <td>13.0</td>\n",
       "      <td>12.1</td>\n",
       "      <td>0.1</td>\n",
       "      <td>0.0</td>\n",
       "      <td>988.9</td>\n",
       "      <td>100</td>\n",
       "      <td>100</td>\n",
       "      <td>39</td>\n",
       "      <td>99</td>\n",
       "      <td>3.805556</td>\n",
       "      <td>360</td>\n",
       "      <td>0.0</td>\n",
       "      <td>0.0</td>\n",
       "      <td>0.0</td>\n",
       "      <td>1.0</td>\n",
       "      <td>Võru County</td>\n",
       "    </tr>\n",
       "    <tr>\n",
       "      <th>14</th>\n",
       "      <td>2021-09-01 00:00:00</td>\n",
       "      <td>13.3</td>\n",
       "      <td>10.7</td>\n",
       "      <td>0.0</td>\n",
       "      <td>0.0</td>\n",
       "      <td>1016.2</td>\n",
       "      <td>51</td>\n",
       "      <td>35</td>\n",
       "      <td>0</td>\n",
       "      <td>64</td>\n",
       "      <td>7.611111</td>\n",
       "      <td>5</td>\n",
       "      <td>0.0</td>\n",
       "      <td>0.0</td>\n",
       "      <td>0.0</td>\n",
       "      <td>1.0</td>\n",
       "      <td>Saare County</td>\n",
       "    </tr>\n",
       "    <tr>\n",
       "      <th>15</th>\n",
       "      <td>2021-09-01 00:00:00</td>\n",
       "      <td>14.4</td>\n",
       "      <td>11.3</td>\n",
       "      <td>0.0</td>\n",
       "      <td>0.0</td>\n",
       "      <td>1016.2</td>\n",
       "      <td>51</td>\n",
       "      <td>35</td>\n",
       "      <td>0</td>\n",
       "      <td>64</td>\n",
       "      <td>7.611111</td>\n",
       "      <td>5</td>\n",
       "      <td>0.0</td>\n",
       "      <td>0.0</td>\n",
       "      <td>0.0</td>\n",
       "      <td>1.0</td>\n",
       "      <td>Saare County</td>\n",
       "    </tr>\n",
       "  </tbody>\n",
       "</table>\n",
       "</div>"
      ],
      "text/plain": [
       "               datetime  temperature  dewpoint  rain  snowfall  \\\n",
       "3   2021-09-01 00:00:00         14.6      11.5   0.0       0.0   \n",
       "10  2021-09-01 00:00:00         13.0      11.5   0.0       0.0   \n",
       "11  2021-09-01 00:00:00         13.0      12.1   0.1       0.0   \n",
       "14  2021-09-01 00:00:00         13.3      10.7   0.0       0.0   \n",
       "15  2021-09-01 00:00:00         14.4      11.3   0.0       0.0   \n",
       "\n",
       "    surface_pressure  cloudcover_total  cloudcover_low  cloudcover_mid  \\\n",
       "3             1017.3                 0               0               0   \n",
       "10             998.5               100              85              17   \n",
       "11             988.9               100             100              39   \n",
       "14            1016.2                51              35               0   \n",
       "15            1016.2                51              35               0   \n",
       "\n",
       "    cloudcover_high  windspeed_10m  winddirection_10m  shortwave_radiation  \\\n",
       "3                 0       8.083333                297                358.0   \n",
       "10               98       4.027778                354                  0.0   \n",
       "11               99       3.805556                360                  0.0   \n",
       "14               64       7.611111                  5                  0.0   \n",
       "15               64       7.611111                  5                  0.0   \n",
       "\n",
       "    direct_solar_radiation  diffuse_radiation  data_block_id        county  \n",
       "3                    277.0               81.0            1.0  Saare County  \n",
       "10                     0.0                0.0            1.0   Võru County  \n",
       "11                     0.0                0.0            1.0   Võru County  \n",
       "14                     0.0                0.0            1.0  Saare County  \n",
       "15                     0.0                0.0            1.0  Saare County  "
      ]
     },
     "execution_count": 14,
     "metadata": {},
     "output_type": "execute_result"
    }
   ],
   "source": [
    "# Drop historical_weather rows that are not from a county of Estonia\n",
    "county_locations = [\n",
    "        'Saare County',\n",
    "        'Võru County',\n",
    "        'Pärnu County',\n",
    "        'Valga County',\n",
    "        'Viljandi County',\n",
    "        'Tartu County',\n",
    "        'Põlva County',\n",
    "        'Jõgeva County',\n",
    "        'Hiiu County',\n",
    "        'Lääne County',\n",
    "        'Rapla County',\n",
    "        'Järva County',\n",
    "        'Harju County',\n",
    "        'Lääne-Viru County',\n",
    "        'Ida-Viru County'\n",
    "        ]\n",
    "historical_weather = historical_weather[historical_weather['county'].isin(county_locations)]\n",
    "historical_weather.head()"
   ]
  },
  {
   "cell_type": "code",
   "execution_count": 15,
   "metadata": {
    "colab": {
     "base_uri": "https://localhost:8080/"
    },
    "id": "sLJd1NaFgEY9",
    "outputId": "9303de95-58c7-4108-f357-d3811388a876"
   },
   "outputs": [
    {
     "name": "stdout",
     "output_type": "stream",
     "text": [
      "Counties: ['Saare County' 'Võru County' 'Pärnu County' 'Valga County'\n",
      " 'Viljandi County' 'Tartu County' 'Põlva County' 'Jõgeva County'\n",
      " 'Hiiu County' 'Lääne County' 'Rapla County' 'Järva County' 'Harju County'\n",
      " 'Lääne-Viru County' 'Ida-Viru County']\n",
      "Number of counties: 15\n"
     ]
    }
   ],
   "source": [
    "# Check that all the rows in historical_weather are from a county in Estonia\n",
    "print('Counties:', historical_weather.county.unique())\n",
    "print('Number of counties:', len(historical_weather.county.unique()))"
   ]
  },
  {
   "cell_type": "code",
   "execution_count": 16,
   "metadata": {
    "colab": {
     "base_uri": "https://localhost:8080/"
    },
    "id": "OTH_bjPekZYs",
    "outputId": "228db25b-c4ea-41a7-e7a0-b545f427f94a"
   },
   "outputs": [
    {
     "data": {
      "text/html": [
       "<div>\n",
       "<style scoped>\n",
       "    .dataframe tbody tr th:only-of-type {\n",
       "        vertical-align: middle;\n",
       "    }\n",
       "\n",
       "    .dataframe tbody tr th {\n",
       "        vertical-align: top;\n",
       "    }\n",
       "\n",
       "    .dataframe thead th {\n",
       "        text-align: right;\n",
       "    }\n",
       "</style>\n",
       "<table border=\"1\" class=\"dataframe\">\n",
       "  <thead>\n",
       "    <tr style=\"text-align: right;\">\n",
       "      <th></th>\n",
       "      <th>datetime</th>\n",
       "      <th>temperature</th>\n",
       "      <th>dewpoint</th>\n",
       "      <th>rain</th>\n",
       "      <th>snowfall</th>\n",
       "      <th>surface_pressure</th>\n",
       "      <th>cloudcover_total</th>\n",
       "      <th>cloudcover_low</th>\n",
       "      <th>cloudcover_mid</th>\n",
       "      <th>cloudcover_high</th>\n",
       "      <th>windspeed_10m</th>\n",
       "      <th>winddirection_10m</th>\n",
       "      <th>shortwave_radiation</th>\n",
       "      <th>direct_solar_radiation</th>\n",
       "      <th>diffuse_radiation</th>\n",
       "      <th>data_block_id</th>\n",
       "      <th>county</th>\n",
       "    </tr>\n",
       "  </thead>\n",
       "  <tbody>\n",
       "    <tr>\n",
       "      <th>3</th>\n",
       "      <td>2021-09-01 00:00:00</td>\n",
       "      <td>14.6</td>\n",
       "      <td>11.5</td>\n",
       "      <td>0.0</td>\n",
       "      <td>0.0</td>\n",
       "      <td>1017.3</td>\n",
       "      <td>0</td>\n",
       "      <td>0</td>\n",
       "      <td>0</td>\n",
       "      <td>0</td>\n",
       "      <td>8.083333</td>\n",
       "      <td>297</td>\n",
       "      <td>358.0</td>\n",
       "      <td>277.0</td>\n",
       "      <td>81.0</td>\n",
       "      <td>1.0</td>\n",
       "      <td>10</td>\n",
       "    </tr>\n",
       "    <tr>\n",
       "      <th>10</th>\n",
       "      <td>2021-09-01 00:00:00</td>\n",
       "      <td>13.0</td>\n",
       "      <td>11.5</td>\n",
       "      <td>0.0</td>\n",
       "      <td>0.0</td>\n",
       "      <td>998.5</td>\n",
       "      <td>100</td>\n",
       "      <td>85</td>\n",
       "      <td>17</td>\n",
       "      <td>98</td>\n",
       "      <td>4.027778</td>\n",
       "      <td>354</td>\n",
       "      <td>0.0</td>\n",
       "      <td>0.0</td>\n",
       "      <td>0.0</td>\n",
       "      <td>1.0</td>\n",
       "      <td>15</td>\n",
       "    </tr>\n",
       "    <tr>\n",
       "      <th>11</th>\n",
       "      <td>2021-09-01 00:00:00</td>\n",
       "      <td>13.0</td>\n",
       "      <td>12.1</td>\n",
       "      <td>0.1</td>\n",
       "      <td>0.0</td>\n",
       "      <td>988.9</td>\n",
       "      <td>100</td>\n",
       "      <td>100</td>\n",
       "      <td>39</td>\n",
       "      <td>99</td>\n",
       "      <td>3.805556</td>\n",
       "      <td>360</td>\n",
       "      <td>0.0</td>\n",
       "      <td>0.0</td>\n",
       "      <td>0.0</td>\n",
       "      <td>1.0</td>\n",
       "      <td>15</td>\n",
       "    </tr>\n",
       "    <tr>\n",
       "      <th>14</th>\n",
       "      <td>2021-09-01 00:00:00</td>\n",
       "      <td>13.3</td>\n",
       "      <td>10.7</td>\n",
       "      <td>0.0</td>\n",
       "      <td>0.0</td>\n",
       "      <td>1016.2</td>\n",
       "      <td>51</td>\n",
       "      <td>35</td>\n",
       "      <td>0</td>\n",
       "      <td>64</td>\n",
       "      <td>7.611111</td>\n",
       "      <td>5</td>\n",
       "      <td>0.0</td>\n",
       "      <td>0.0</td>\n",
       "      <td>0.0</td>\n",
       "      <td>1.0</td>\n",
       "      <td>10</td>\n",
       "    </tr>\n",
       "    <tr>\n",
       "      <th>15</th>\n",
       "      <td>2021-09-01 00:00:00</td>\n",
       "      <td>14.4</td>\n",
       "      <td>11.3</td>\n",
       "      <td>0.0</td>\n",
       "      <td>0.0</td>\n",
       "      <td>1016.2</td>\n",
       "      <td>51</td>\n",
       "      <td>35</td>\n",
       "      <td>0</td>\n",
       "      <td>64</td>\n",
       "      <td>7.611111</td>\n",
       "      <td>5</td>\n",
       "      <td>0.0</td>\n",
       "      <td>0.0</td>\n",
       "      <td>0.0</td>\n",
       "      <td>1.0</td>\n",
       "      <td>10</td>\n",
       "    </tr>\n",
       "  </tbody>\n",
       "</table>\n",
       "</div>"
      ],
      "text/plain": [
       "               datetime  temperature  dewpoint  rain  snowfall  \\\n",
       "3   2021-09-01 00:00:00         14.6      11.5   0.0       0.0   \n",
       "10  2021-09-01 00:00:00         13.0      11.5   0.0       0.0   \n",
       "11  2021-09-01 00:00:00         13.0      12.1   0.1       0.0   \n",
       "14  2021-09-01 00:00:00         13.3      10.7   0.0       0.0   \n",
       "15  2021-09-01 00:00:00         14.4      11.3   0.0       0.0   \n",
       "\n",
       "    surface_pressure  cloudcover_total  cloudcover_low  cloudcover_mid  \\\n",
       "3             1017.3                 0               0               0   \n",
       "10             998.5               100              85              17   \n",
       "11             988.9               100             100              39   \n",
       "14            1016.2                51              35               0   \n",
       "15            1016.2                51              35               0   \n",
       "\n",
       "    cloudcover_high  windspeed_10m  winddirection_10m  shortwave_radiation  \\\n",
       "3                 0       8.083333                297                358.0   \n",
       "10               98       4.027778                354                  0.0   \n",
       "11               99       3.805556                360                  0.0   \n",
       "14               64       7.611111                  5                  0.0   \n",
       "15               64       7.611111                  5                  0.0   \n",
       "\n",
       "    direct_solar_radiation  diffuse_radiation  data_block_id  county  \n",
       "3                    277.0               81.0            1.0      10  \n",
       "10                     0.0                0.0            1.0      15  \n",
       "11                     0.0                0.0            1.0      15  \n",
       "14                     0.0                0.0            1.0      10  \n",
       "15                     0.0                0.0            1.0      10  "
      ]
     },
     "execution_count": 16,
     "metadata": {},
     "output_type": "execute_result"
    }
   ],
   "source": [
    "# Change county name to an integer (the same as the test dataset)\n",
    "county_to_int = {'Saare County' : 10,\n",
    "                 'Võru County' : 15,\n",
    "                 'Pärnu County' : 7,\n",
    "                 'Valga County' : 13,\n",
    "                 'Viljandi County' : 14,\n",
    "                 'Tartu County' : 11,\n",
    "                 'Põlva County' : 8,\n",
    "                 'Jõgeva County' : 4,\n",
    "                 'Hiiu County' : 1,\n",
    "                 'Lääne County' : 6,\n",
    "                 'Rapla County' : 9,\n",
    "                 'Järva County' : 3,\n",
    "                 'Harju County' : 0,\n",
    "                 'Lääne-Viru County' : 5,\n",
    "                 'Ida-Viru County' : 2}\n",
    "\n",
    "historical_weather['county'] = historical_weather['county'].map(county_to_int)\n",
    "historical_weather.head()"
   ]
  },
  {
   "cell_type": "code",
   "execution_count": 17,
   "metadata": {
    "id": "n7pDjfnAeT47"
   },
   "outputs": [],
   "source": [
    "# Change datetime column to datetime type\n",
    "historical_weather['datetime'] = pd.to_datetime(historical_weather['datetime'])"
   ]
  },
  {
   "cell_type": "code",
   "execution_count": 18,
   "metadata": {
    "colab": {
     "base_uri": "https://localhost:8080/"
    },
    "id": "Qy0BnepfwWMf",
    "outputId": "4d7019bc-ac08-4405-c831-db4a2e78b0e5"
   },
   "outputs": [
    {
     "data": {
      "text/html": [
       "<div>\n",
       "<style scoped>\n",
       "    .dataframe tbody tr th:only-of-type {\n",
       "        vertical-align: middle;\n",
       "    }\n",
       "\n",
       "    .dataframe tbody tr th {\n",
       "        vertical-align: top;\n",
       "    }\n",
       "\n",
       "    .dataframe thead th {\n",
       "        text-align: right;\n",
       "    }\n",
       "</style>\n",
       "<table border=\"1\" class=\"dataframe\">\n",
       "  <thead>\n",
       "    <tr style=\"text-align: right;\">\n",
       "      <th></th>\n",
       "      <th>county</th>\n",
       "      <th>datetime</th>\n",
       "      <th>temperature</th>\n",
       "      <th>dewpoint</th>\n",
       "      <th>rain</th>\n",
       "      <th>snowfall</th>\n",
       "      <th>surface_pressure</th>\n",
       "      <th>cloudcover_total</th>\n",
       "      <th>cloudcover_low</th>\n",
       "      <th>cloudcover_mid</th>\n",
       "      <th>cloudcover_high</th>\n",
       "      <th>windspeed_10m</th>\n",
       "      <th>winddirection_10m</th>\n",
       "      <th>shortwave_radiation</th>\n",
       "      <th>direct_solar_radiation</th>\n",
       "      <th>diffuse_radiation</th>\n",
       "      <th>data_block_id</th>\n",
       "    </tr>\n",
       "  </thead>\n",
       "  <tbody>\n",
       "    <tr>\n",
       "      <th>0</th>\n",
       "      <td>0</td>\n",
       "      <td>2021-09-01 00:00:00</td>\n",
       "      <td>13.79</td>\n",
       "      <td>10.73</td>\n",
       "      <td>0.0</td>\n",
       "      <td>0.0</td>\n",
       "      <td>1010.56</td>\n",
       "      <td>54.4</td>\n",
       "      <td>56.9</td>\n",
       "      <td>3.5</td>\n",
       "      <td>3.9</td>\n",
       "      <td>5.325000</td>\n",
       "      <td>342.0</td>\n",
       "      <td>0.0</td>\n",
       "      <td>0.0</td>\n",
       "      <td>0.0</td>\n",
       "      <td>1.0</td>\n",
       "    </tr>\n",
       "    <tr>\n",
       "      <th>1</th>\n",
       "      <td>0</td>\n",
       "      <td>2021-09-01 01:00:00</td>\n",
       "      <td>13.62</td>\n",
       "      <td>10.35</td>\n",
       "      <td>0.0</td>\n",
       "      <td>0.0</td>\n",
       "      <td>1010.47</td>\n",
       "      <td>28.9</td>\n",
       "      <td>26.0</td>\n",
       "      <td>1.1</td>\n",
       "      <td>15.8</td>\n",
       "      <td>5.327778</td>\n",
       "      <td>345.8</td>\n",
       "      <td>0.0</td>\n",
       "      <td>0.0</td>\n",
       "      <td>0.0</td>\n",
       "      <td>1.0</td>\n",
       "    </tr>\n",
       "    <tr>\n",
       "      <th>2</th>\n",
       "      <td>0</td>\n",
       "      <td>2021-09-01 02:00:00</td>\n",
       "      <td>13.13</td>\n",
       "      <td>10.07</td>\n",
       "      <td>0.0</td>\n",
       "      <td>0.0</td>\n",
       "      <td>1010.14</td>\n",
       "      <td>13.7</td>\n",
       "      <td>14.5</td>\n",
       "      <td>0.1</td>\n",
       "      <td>1.8</td>\n",
       "      <td>5.091667</td>\n",
       "      <td>340.8</td>\n",
       "      <td>0.0</td>\n",
       "      <td>0.0</td>\n",
       "      <td>0.0</td>\n",
       "      <td>1.0</td>\n",
       "    </tr>\n",
       "  </tbody>\n",
       "</table>\n",
       "</div>"
      ],
      "text/plain": [
       "   county            datetime  temperature  dewpoint  rain  snowfall  \\\n",
       "0       0 2021-09-01 00:00:00        13.79     10.73   0.0       0.0   \n",
       "1       0 2021-09-01 01:00:00        13.62     10.35   0.0       0.0   \n",
       "2       0 2021-09-01 02:00:00        13.13     10.07   0.0       0.0   \n",
       "\n",
       "   surface_pressure  cloudcover_total  cloudcover_low  cloudcover_mid  \\\n",
       "0           1010.56              54.4            56.9             3.5   \n",
       "1           1010.47              28.9            26.0             1.1   \n",
       "2           1010.14              13.7            14.5             0.1   \n",
       "\n",
       "   cloudcover_high  windspeed_10m  winddirection_10m  shortwave_radiation  \\\n",
       "0              3.9       5.325000              342.0                  0.0   \n",
       "1             15.8       5.327778              345.8                  0.0   \n",
       "2              1.8       5.091667              340.8                  0.0   \n",
       "\n",
       "   direct_solar_radiation  diffuse_radiation  data_block_id  \n",
       "0                     0.0                0.0            1.0  \n",
       "1                     0.0                0.0            1.0  \n",
       "2                     0.0                0.0            1.0  "
      ]
     },
     "execution_count": 18,
     "metadata": {},
     "output_type": "execute_result"
    }
   ],
   "source": [
    "# Group data by county and datetype, get avg from all cols\n",
    "historical_weather = group_df(historical_weather, ['county', 'datetime'], 'mean')\n",
    "historical_weather.head(3)"
   ]
  },
  {
   "cell_type": "markdown",
   "metadata": {
    "id": "LYlmUwcMNak3"
   },
   "source": [
    "# Filter train dataset by product_type, is_business and county\n",
    "Primero vamos a hacer un EDA para saber cómo hacer el filtrado del dataset ya que este contiene muchos registros y no tenemos la capacidad computacional para correr modelos con tantos datos."
   ]
  },
  {
   "cell_type": "markdown",
   "metadata": {
    "id": "AvayJyRRPsqC"
   },
   "source": [
    "## Consumption data"
   ]
  },
  {
   "cell_type": "code",
   "execution_count": 19,
   "metadata": {
    "colab": {
     "base_uri": "https://localhost:8080/"
    },
    "id": "GzhDZjCLn7dD",
    "outputId": "49c37444-f56d-47e6-e9a0-b62d2767a220"
   },
   "outputs": [
    {
     "data": {
      "text/html": [
       "<div>\n",
       "<style scoped>\n",
       "    .dataframe tbody tr th:only-of-type {\n",
       "        vertical-align: middle;\n",
       "    }\n",
       "\n",
       "    .dataframe tbody tr th {\n",
       "        vertical-align: top;\n",
       "    }\n",
       "\n",
       "    .dataframe thead th {\n",
       "        text-align: right;\n",
       "    }\n",
       "</style>\n",
       "<table border=\"1\" class=\"dataframe\">\n",
       "  <thead>\n",
       "    <tr style=\"text-align: right;\">\n",
       "      <th></th>\n",
       "      <th>county</th>\n",
       "      <th>is_business</th>\n",
       "      <th>product_type</th>\n",
       "      <th>target</th>\n",
       "      <th>is_consumption</th>\n",
       "      <th>datetime</th>\n",
       "      <th>data_block_id</th>\n",
       "      <th>row_id</th>\n",
       "      <th>prediction_unit_id</th>\n",
       "    </tr>\n",
       "  </thead>\n",
       "  <tbody>\n",
       "    <tr>\n",
       "      <th>0</th>\n",
       "      <td>0</td>\n",
       "      <td>0</td>\n",
       "      <td>1</td>\n",
       "      <td>0.713</td>\n",
       "      <td>0</td>\n",
       "      <td>2021-09-01 00:00:00</td>\n",
       "      <td>0</td>\n",
       "      <td>0</td>\n",
       "      <td>0</td>\n",
       "    </tr>\n",
       "    <tr>\n",
       "      <th>2</th>\n",
       "      <td>0</td>\n",
       "      <td>0</td>\n",
       "      <td>2</td>\n",
       "      <td>0.000</td>\n",
       "      <td>0</td>\n",
       "      <td>2021-09-01 00:00:00</td>\n",
       "      <td>0</td>\n",
       "      <td>2</td>\n",
       "      <td>1</td>\n",
       "    </tr>\n",
       "    <tr>\n",
       "      <th>4</th>\n",
       "      <td>0</td>\n",
       "      <td>0</td>\n",
       "      <td>3</td>\n",
       "      <td>2.904</td>\n",
       "      <td>0</td>\n",
       "      <td>2021-09-01 00:00:00</td>\n",
       "      <td>0</td>\n",
       "      <td>4</td>\n",
       "      <td>2</td>\n",
       "    </tr>\n",
       "    <tr>\n",
       "      <th>6</th>\n",
       "      <td>0</td>\n",
       "      <td>1</td>\n",
       "      <td>0</td>\n",
       "      <td>0.000</td>\n",
       "      <td>0</td>\n",
       "      <td>2021-09-01 00:00:00</td>\n",
       "      <td>0</td>\n",
       "      <td>6</td>\n",
       "      <td>3</td>\n",
       "    </tr>\n",
       "    <tr>\n",
       "      <th>8</th>\n",
       "      <td>0</td>\n",
       "      <td>1</td>\n",
       "      <td>1</td>\n",
       "      <td>0.000</td>\n",
       "      <td>0</td>\n",
       "      <td>2021-09-01 00:00:00</td>\n",
       "      <td>0</td>\n",
       "      <td>8</td>\n",
       "      <td>4</td>\n",
       "    </tr>\n",
       "  </tbody>\n",
       "</table>\n",
       "</div>"
      ],
      "text/plain": [
       "   county  is_business  product_type  target  is_consumption  \\\n",
       "0       0            0             1   0.713               0   \n",
       "2       0            0             2   0.000               0   \n",
       "4       0            0             3   2.904               0   \n",
       "6       0            1             0   0.000               0   \n",
       "8       0            1             1   0.000               0   \n",
       "\n",
       "              datetime  data_block_id  row_id  prediction_unit_id  \n",
       "0  2021-09-01 00:00:00              0       0                   0  \n",
       "2  2021-09-01 00:00:00              0       2                   1  \n",
       "4  2021-09-01 00:00:00              0       4                   2  \n",
       "6  2021-09-01 00:00:00              0       6                   3  \n",
       "8  2021-09-01 00:00:00              0       8                   4  "
      ]
     },
     "execution_count": 19,
     "metadata": {},
     "output_type": "execute_result"
    }
   ],
   "source": [
    "# Filter consumption data\n",
    "train_consumption = train[train['is_consumption'] == 0]\n",
    "train_consumption.head()"
   ]
  },
  {
   "cell_type": "code",
   "execution_count": 20,
   "metadata": {
    "colab": {
     "base_uri": "https://localhost:8080/"
    },
    "id": "yK-F4aBgqL0M",
    "outputId": "019b2033-d9b6-4e53-80c6-e779f71b8c38"
   },
   "outputs": [
    {
     "data": {
      "text/plain": [
       "<Axes: xlabel='product_type', ylabel='target'>"
      ]
     },
     "execution_count": 20,
     "metadata": {},
     "output_type": "execute_result"
    },
    {
     "data": {
      "image/png": "[encoded data removed]",
      "text/plain": [
       "<Figure size 640x480 with 1 Axes>"
      ]
     },
     "metadata": {},
     "output_type": "display_data"
    }
   ],
   "source": [
    "# Group by product_type\n",
    "df = group_df(train_consumption, ['product_type'])\n",
    "df.head()\n",
    "sns.barplot(x='product_type', y='target', data=df)"
   ]
  },
  {
   "cell_type": "code",
   "execution_count": 21,
   "metadata": {
    "colab": {
     "base_uri": "https://localhost:8080/"
    },
    "id": "hRDztpl2sHOw",
    "outputId": "9c7b95a1-894a-4d4c-9a3a-be72c3f39276"
   },
   "outputs": [
    {
     "data": {
      "text/plain": [
       "<Axes: xlabel='is_business', ylabel='target'>"
      ]
     },
     "execution_count": 21,
     "metadata": {},
     "output_type": "execute_result"
    },
    {
     "data": {
      "image/png": "[encoded data removed]",
      "text/plain": [
       "<Figure size 640x480 with 1 Axes>"
      ]
     },
     "metadata": {},
     "output_type": "display_data"
    }
   ],
   "source": [
    "# Group by is_business\n",
    "df = group_df(train_consumption, ['is_business'])\n",
    "df.head()\n",
    "sns.barplot(x='is_business', y='target', data=df)"
   ]
  },
  {
   "cell_type": "code",
   "execution_count": 22,
   "metadata": {
    "colab": {
     "base_uri": "https://localhost:8080/"
    },
    "id": "LXFJBCw4uSZS",
    "outputId": "632a42f5-38bc-441f-a4dc-272a003ea3a4"
   },
   "outputs": [
    {
     "data": {
      "text/plain": [
       "<Axes: xlabel='is_business', ylabel='target'>"
      ]
     },
     "execution_count": 22,
     "metadata": {},
     "output_type": "execute_result"
    },
    {
     "data": {
      "image/png": "[encoded data removed]",
      "text/plain": [
       "<Figure size 640x480 with 1 Axes>"
      ]
     },
     "metadata": {},
     "output_type": "display_data"
    }
   ],
   "source": [
    "# Group records where product_type=3 by is_business\n",
    "df = group_df(train_consumption[train_consumption['product_type'] == 3], ['is_business'])\n",
    "df.head()\n",
    "sns.barplot(x='is_business', y='target', data=df)"
   ]
  },
  {
   "cell_type": "markdown",
   "metadata": {
    "id": "4ZQGvq-zrJaW"
   },
   "source": [
    "## Production data"
   ]
  },
  {
   "cell_type": "code",
   "execution_count": 23,
   "metadata": {
    "colab": {
     "base_uri": "https://localhost:8080/"
    },
    "id": "8j3z_HrjoGlG",
    "outputId": "a2c3d021-7468-480f-95ca-8414e931bde8"
   },
   "outputs": [
    {
     "data": {
      "text/html": [
       "<div>\n",
       "<style scoped>\n",
       "    .dataframe tbody tr th:only-of-type {\n",
       "        vertical-align: middle;\n",
       "    }\n",
       "\n",
       "    .dataframe tbody tr th {\n",
       "        vertical-align: top;\n",
       "    }\n",
       "\n",
       "    .dataframe thead th {\n",
       "        text-align: right;\n",
       "    }\n",
       "</style>\n",
       "<table border=\"1\" class=\"dataframe\">\n",
       "  <thead>\n",
       "    <tr style=\"text-align: right;\">\n",
       "      <th></th>\n",
       "      <th>county</th>\n",
       "      <th>is_business</th>\n",
       "      <th>product_type</th>\n",
       "      <th>target</th>\n",
       "      <th>is_consumption</th>\n",
       "      <th>datetime</th>\n",
       "      <th>data_block_id</th>\n",
       "      <th>row_id</th>\n",
       "      <th>prediction_unit_id</th>\n",
       "    </tr>\n",
       "  </thead>\n",
       "  <tbody>\n",
       "    <tr>\n",
       "      <th>1</th>\n",
       "      <td>0</td>\n",
       "      <td>0</td>\n",
       "      <td>1</td>\n",
       "      <td>96.590</td>\n",
       "      <td>1</td>\n",
       "      <td>2021-09-01 00:00:00</td>\n",
       "      <td>0</td>\n",
       "      <td>1</td>\n",
       "      <td>0</td>\n",
       "    </tr>\n",
       "    <tr>\n",
       "      <th>3</th>\n",
       "      <td>0</td>\n",
       "      <td>0</td>\n",
       "      <td>2</td>\n",
       "      <td>17.314</td>\n",
       "      <td>1</td>\n",
       "      <td>2021-09-01 00:00:00</td>\n",
       "      <td>0</td>\n",
       "      <td>3</td>\n",
       "      <td>1</td>\n",
       "    </tr>\n",
       "    <tr>\n",
       "      <th>5</th>\n",
       "      <td>0</td>\n",
       "      <td>0</td>\n",
       "      <td>3</td>\n",
       "      <td>656.859</td>\n",
       "      <td>1</td>\n",
       "      <td>2021-09-01 00:00:00</td>\n",
       "      <td>0</td>\n",
       "      <td>5</td>\n",
       "      <td>2</td>\n",
       "    </tr>\n",
       "    <tr>\n",
       "      <th>7</th>\n",
       "      <td>0</td>\n",
       "      <td>1</td>\n",
       "      <td>0</td>\n",
       "      <td>59.000</td>\n",
       "      <td>1</td>\n",
       "      <td>2021-09-01 00:00:00</td>\n",
       "      <td>0</td>\n",
       "      <td>7</td>\n",
       "      <td>3</td>\n",
       "    </tr>\n",
       "    <tr>\n",
       "      <th>9</th>\n",
       "      <td>0</td>\n",
       "      <td>1</td>\n",
       "      <td>1</td>\n",
       "      <td>501.760</td>\n",
       "      <td>1</td>\n",
       "      <td>2021-09-01 00:00:00</td>\n",
       "      <td>0</td>\n",
       "      <td>9</td>\n",
       "      <td>4</td>\n",
       "    </tr>\n",
       "  </tbody>\n",
       "</table>\n",
       "</div>"
      ],
      "text/plain": [
       "   county  is_business  product_type   target  is_consumption  \\\n",
       "1       0            0             1   96.590               1   \n",
       "3       0            0             2   17.314               1   \n",
       "5       0            0             3  656.859               1   \n",
       "7       0            1             0   59.000               1   \n",
       "9       0            1             1  501.760               1   \n",
       "\n",
       "              datetime  data_block_id  row_id  prediction_unit_id  \n",
       "1  2021-09-01 00:00:00              0       1                   0  \n",
       "3  2021-09-01 00:00:00              0       3                   1  \n",
       "5  2021-09-01 00:00:00              0       5                   2  \n",
       "7  2021-09-01 00:00:00              0       7                   3  \n",
       "9  2021-09-01 00:00:00              0       9                   4  "
      ]
     },
     "execution_count": 23,
     "metadata": {},
     "output_type": "execute_result"
    }
   ],
   "source": [
    "# Filter production data\n",
    "train_production = train[train['is_consumption'] == 1]\n",
    "train_production.head()"
   ]
  },
  {
   "cell_type": "code",
   "execution_count": 24,
   "metadata": {
    "colab": {
     "base_uri": "https://localhost:8080/"
    },
    "id": "-peeCjoZu26I",
    "outputId": "a7b96422-eaf3-40b4-80c1-936e7b820256"
   },
   "outputs": [
    {
     "data": {
      "text/plain": [
       "<Axes: xlabel='product_type', ylabel='target'>"
      ]
     },
     "execution_count": 24,
     "metadata": {},
     "output_type": "execute_result"
    },
    {
     "data": {
      "image/png": "[encoded data removed]",
      "text/plain": [
       "<Figure size 640x480 with 1 Axes>"
      ]
     },
     "metadata": {},
     "output_type": "display_data"
    }
   ],
   "source": [
    "# Group by product_type\n",
    "df = group_df(train_production, ['product_type'])\n",
    "df.head()\n",
    "sns.barplot(x='product_type', y='target', data=df)"
   ]
  },
  {
   "cell_type": "code",
   "execution_count": 25,
   "metadata": {
    "colab": {
     "base_uri": "https://localhost:8080/"
    },
    "id": "HWV7cIrKvEar",
    "outputId": "1e4d8fe7-4f7c-4c39-c96a-aa49e2e8d387"
   },
   "outputs": [
    {
     "data": {
      "text/plain": [
       "<Axes: xlabel='is_business', ylabel='target'>"
      ]
     },
     "execution_count": 25,
     "metadata": {},
     "output_type": "execute_result"
    },
    {
     "data": {
      "image/png": "[encoded data removed]",
      "text/plain": [
       "<Figure size 640x480 with 1 Axes>"
      ]
     },
     "metadata": {},
     "output_type": "display_data"
    }
   ],
   "source": [
    "# Group by is_business\n",
    "df = group_df(train_production, ['is_business'])\n",
    "df.head()\n",
    "sns.barplot(x='is_business', y='target', data=df)"
   ]
  },
  {
   "cell_type": "code",
   "execution_count": 26,
   "metadata": {
    "colab": {
     "base_uri": "https://localhost:8080/"
    },
    "id": "9lfPrrh3u-ZQ",
    "outputId": "a1dd4ac9-32b1-46d2-b965-f262c6652f53"
   },
   "outputs": [
    {
     "data": {
      "text/plain": [
       "<Axes: xlabel='is_business', ylabel='target'>"
      ]
     },
     "execution_count": 26,
     "metadata": {},
     "output_type": "execute_result"
    },
    {
     "data": {
      "image/png": "[encoded data removed]",
      "text/plain": [
       "<Figure size 640x480 with 1 Axes>"
      ]
     },
     "metadata": {},
     "output_type": "display_data"
    }
   ],
   "source": [
    "# Group records where product_type=3 by is_business\n",
    "df = group_df(train_production[train_production['product_type'] == 3], ['is_business'])\n",
    "df.head()\n",
    "sns.barplot(x='is_business', y='target', data=df)"
   ]
  },
  {
   "cell_type": "markdown",
   "metadata": {
    "id": "Qli8MkJAVO0v"
   },
   "source": [
    "**Conclusiones**\n",
    "\n",
    "- **Dataset de consumo:** el tipo de contrato que más energía consume es el 3 y las empresas son las que más energía consumen. Para el tipo de contrato 3, las empresas son las que más energía consumen.\n",
    "\n",
    "- **Dataset de consumo:** el tipo de contrato que más energía produce es el 3 y las empresas son las que más energía producen. Para el tipo de contrato 3, las empresas son las que más energía producen.\n",
    "\n",
    "Debido a que las empresas con tipo de contrato 3 son las que más enegría consumen y producen, nos vamos a enfocar en este segmento, pues esta predicción nos puede ayudar a ahorrar la mayor cantidad de dinero."
   ]
  },
  {
   "cell_type": "markdown",
   "metadata": {
    "id": "MYWflQbkxaA8"
   },
   "source": [
    "## Filter by product_type = 3 and is_business = 1"
   ]
  },
  {
   "cell_type": "markdown",
   "metadata": {
    "id": "3RscxasYVMK3"
   },
   "source": [
    "Se va a contruir un dataset de consumo y otro de producción de energía. Se va a tomar en cuenta unicamente el semneto de empresas donde el tipo de producto es el 3 (is_business = 1 and product_type = 3)."
   ]
  },
  {
   "cell_type": "code",
   "execution_count": 27,
   "metadata": {
    "colab": {
     "base_uri": "https://localhost:8080/"
    },
    "id": "6MZ6NY8nS9rk",
    "outputId": "1d304b89-c71a-471f-c862-fa1dac152856"
   },
   "outputs": [
    {
     "name": "stdout",
     "output_type": "stream",
     "text": [
      "Consumption shape: (244992, 3)\n"
     ]
    },
    {
     "data": {
      "text/html": [
       "<div>\n",
       "<style scoped>\n",
       "    .dataframe tbody tr th:only-of-type {\n",
       "        vertical-align: middle;\n",
       "    }\n",
       "\n",
       "    .dataframe tbody tr th {\n",
       "        vertical-align: top;\n",
       "    }\n",
       "\n",
       "    .dataframe thead th {\n",
       "        text-align: right;\n",
       "    }\n",
       "</style>\n",
       "<table border=\"1\" class=\"dataframe\">\n",
       "  <thead>\n",
       "    <tr style=\"text-align: right;\">\n",
       "      <th></th>\n",
       "      <th>county</th>\n",
       "      <th>target</th>\n",
       "      <th>datetime</th>\n",
       "    </tr>\n",
       "  </thead>\n",
       "  <tbody>\n",
       "    <tr>\n",
       "      <th>11</th>\n",
       "      <td>0</td>\n",
       "      <td>5155.056</td>\n",
       "      <td>2021-09-01 00:00:00</td>\n",
       "    </tr>\n",
       "    <tr>\n",
       "      <th>17</th>\n",
       "      <td>1</td>\n",
       "      <td>30.778</td>\n",
       "      <td>2021-09-01 00:00:00</td>\n",
       "    </tr>\n",
       "    <tr>\n",
       "      <th>21</th>\n",
       "      <td>2</td>\n",
       "      <td>266.637</td>\n",
       "      <td>2021-09-01 00:00:00</td>\n",
       "    </tr>\n",
       "    <tr>\n",
       "      <th>29</th>\n",
       "      <td>3</td>\n",
       "      <td>729.075</td>\n",
       "      <td>2021-09-01 00:00:00</td>\n",
       "    </tr>\n",
       "    <tr>\n",
       "      <th>37</th>\n",
       "      <td>4</td>\n",
       "      <td>356.901</td>\n",
       "      <td>2021-09-01 00:00:00</td>\n",
       "    </tr>\n",
       "  </tbody>\n",
       "</table>\n",
       "</div>"
      ],
      "text/plain": [
       "    county    target             datetime\n",
       "11       0  5155.056  2021-09-01 00:00:00\n",
       "17       1    30.778  2021-09-01 00:00:00\n",
       "21       2   266.637  2021-09-01 00:00:00\n",
       "29       3   729.075  2021-09-01 00:00:00\n",
       "37       4   356.901  2021-09-01 00:00:00"
      ]
     },
     "execution_count": 27,
     "metadata": {},
     "output_type": "execute_result"
    }
   ],
   "source": [
    "# Consumption dataset\n",
    "train_c = train[(train['is_consumption'] == 1) & (train['is_business'] == 1) & (train['product_type'] == 3)]\n",
    "train_c = train_c.drop(['is_consumption', 'is_business', 'product_type', 'data_block_id', 'row_id', 'prediction_unit_id'], axis=1)\n",
    "print('Consumption shape:', train_c.shape)\n",
    "train_c.head()"
   ]
  },
  {
   "cell_type": "code",
   "execution_count": 28,
   "metadata": {
    "colab": {
     "base_uri": "https://localhost:8080/"
    },
    "id": "Fruack7wUEoI",
    "outputId": "471cc734-14fa-4388-dd24-3e92aebfaa77"
   },
   "outputs": [
    {
     "name": "stdout",
     "output_type": "stream",
     "text": [
      "Production shape: (244992, 3)\n"
     ]
    },
    {
     "data": {
      "text/html": [
       "<div>\n",
       "<style scoped>\n",
       "    .dataframe tbody tr th:only-of-type {\n",
       "        vertical-align: middle;\n",
       "    }\n",
       "\n",
       "    .dataframe tbody tr th {\n",
       "        vertical-align: top;\n",
       "    }\n",
       "\n",
       "    .dataframe thead th {\n",
       "        text-align: right;\n",
       "    }\n",
       "</style>\n",
       "<table border=\"1\" class=\"dataframe\">\n",
       "  <thead>\n",
       "    <tr style=\"text-align: right;\">\n",
       "      <th></th>\n",
       "      <th>county</th>\n",
       "      <th>target</th>\n",
       "      <th>datetime</th>\n",
       "    </tr>\n",
       "  </thead>\n",
       "  <tbody>\n",
       "    <tr>\n",
       "      <th>10</th>\n",
       "      <td>0</td>\n",
       "      <td>0.315</td>\n",
       "      <td>2021-09-01 00:00:00</td>\n",
       "    </tr>\n",
       "    <tr>\n",
       "      <th>16</th>\n",
       "      <td>1</td>\n",
       "      <td>0.000</td>\n",
       "      <td>2021-09-01 00:00:00</td>\n",
       "    </tr>\n",
       "    <tr>\n",
       "      <th>20</th>\n",
       "      <td>2</td>\n",
       "      <td>0.000</td>\n",
       "      <td>2021-09-01 00:00:00</td>\n",
       "    </tr>\n",
       "    <tr>\n",
       "      <th>28</th>\n",
       "      <td>3</td>\n",
       "      <td>0.000</td>\n",
       "      <td>2021-09-01 00:00:00</td>\n",
       "    </tr>\n",
       "    <tr>\n",
       "      <th>36</th>\n",
       "      <td>4</td>\n",
       "      <td>0.000</td>\n",
       "      <td>2021-09-01 00:00:00</td>\n",
       "    </tr>\n",
       "  </tbody>\n",
       "</table>\n",
       "</div>"
      ],
      "text/plain": [
       "    county  target             datetime\n",
       "10       0   0.315  2021-09-01 00:00:00\n",
       "16       1   0.000  2021-09-01 00:00:00\n",
       "20       2   0.000  2021-09-01 00:00:00\n",
       "28       3   0.000  2021-09-01 00:00:00\n",
       "36       4   0.000  2021-09-01 00:00:00"
      ]
     },
     "execution_count": 28,
     "metadata": {},
     "output_type": "execute_result"
    }
   ],
   "source": [
    "# Production dataset\n",
    "train_p = train[(train['is_consumption'] == 0) & (train['is_business'] == 1) & (train['product_type'] == 3)]\n",
    "train_p = train_p.drop(['is_consumption', 'is_business', 'product_type', 'data_block_id', 'row_id', 'prediction_unit_id'], axis=1)\n",
    "print('Production shape:', train_p.shape)\n",
    "train_p.head()"
   ]
  },
  {
   "cell_type": "markdown",
   "metadata": {
    "id": "pW4GDtpBUcwo"
   },
   "source": [
    "## Filter by a county"
   ]
  },
  {
   "cell_type": "code",
   "execution_count": 29,
   "metadata": {
    "colab": {
     "base_uri": "https://localhost:8080/"
    },
    "id": "-DBpIHJ4UcVQ",
    "outputId": "3eb29f15-4314-43d0-c2bb-bbf97f395f43"
   },
   "outputs": [
    {
     "data": {
      "text/plain": [
       "<Axes: xlabel='county', ylabel='target'>"
      ]
     },
     "execution_count": 29,
     "metadata": {},
     "output_type": "execute_result"
    },
    {
     "data": {
      "image/png": "[encoded data removed]",
      "text/plain": [
       "<Figure size 640x480 with 1 Axes>"
      ]
     },
     "metadata": {},
     "output_type": "display_data"
    }
   ],
   "source": [
    "# Group production by county\n",
    "df = group_df(train_p, ['county'])\n",
    "sns.barplot(x='county', y='target', data=df)"
   ]
  },
  {
   "cell_type": "code",
   "execution_count": 30,
   "metadata": {
    "colab": {
     "base_uri": "https://localhost:8080/"
    },
    "id": "LFa-XNOYVB8u",
    "outputId": "328ad7ac-31a9-4935-d3cf-afd7ddc9fa9a"
   },
   "outputs": [
    {
     "data": {
      "text/plain": [
       "<Axes: xlabel='county', ylabel='target'>"
      ]
     },
     "execution_count": 30,
     "metadata": {},
     "output_type": "execute_result"
    },
    {
     "data": {
      "image/png": "[encoded data removed]",
      "text/plain": [
       "<Figure size 640x480 with 1 Axes>"
      ]
     },
     "metadata": {},
     "output_type": "display_data"
    }
   ],
   "source": [
    "# Group consumption by county\n",
    "df = group_df(train_c, ['county'])\n",
    "sns.barplot(x='county', y='target', data=df)"
   ]
  },
  {
   "cell_type": "markdown",
   "metadata": {
    "id": "vtxe65bJVP44"
   },
   "source": [
    "El county que más produce y consume energía es el 0, es decir, Harju. Esto tiene sentido ya que allí se encuntra la capital de Estonia. Solo se van a usar los datos de Harju para el modelo, puesto que allí es donde más beneficio económico se puede obtener al hacer las predicciones."
   ]
  },
  {
   "cell_type": "code",
   "execution_count": 31,
   "metadata": {
    "id": "2YOhcaH-t95X"
   },
   "outputs": [],
   "source": [
    "# Filter datasets where county is Harju (0)\n",
    "train_c = train_c[train_c['county'] == 0]\n",
    "train_p = train_p[train_p['county'] == 0]\n",
    "historical_weather = historical_weather[historical_weather['county'] == 0]\n",
    "\n",
    "# Drop column county\n",
    "train_c = train_c.drop(['county'], axis=1)\n",
    "train_p = train_p.drop(['county'], axis=1)\n",
    "historical_weather = historical_weather.drop(['county'], axis=1)"
   ]
  },
  {
   "cell_type": "markdown",
   "metadata": {
    "id": "dYpoCSDLt3P9"
   },
   "source": [
    "# EDA"
   ]
  },
  {
   "cell_type": "markdown",
   "metadata": {
    "id": "EYCA5WcXhGjR"
   },
   "source": [
    "## Show datasets"
   ]
  },
  {
   "cell_type": "code",
   "execution_count": null,
   "metadata": {
    "colab": {
     "base_uri": "https://localhost:8080/",
     "height": 206
    },
    "id": "4UdNVb7lWFoM",
    "outputId": "7eff1411-141e-4022-e1da-2af13ee4f6d8"
   },
   "outputs": [],
   "source": [
    "train_c.head()"
   ]
  },
  {
   "cell_type": "code",
   "execution_count": null,
   "metadata": {
    "colab": {
     "base_uri": "https://localhost:8080/",
     "height": 206
    },
    "id": "RGgjJGBjWIUn",
    "outputId": "8eb2793e-4ed5-4975-a608-746220b00deb"
   },
   "outputs": [],
   "source": [
    "train_p.head()"
   ]
  },
  {
   "cell_type": "code",
   "execution_count": null,
   "metadata": {
    "colab": {
     "base_uri": "https://localhost:8080/",
     "height": 399
    },
    "id": "xNdX8j5wWJaw",
    "outputId": "4027cad4-ad9e-41e0-d38e-241eab728901"
   },
   "outputs": [],
   "source": [
    "historical_weather.head()"
   ]
  },
  {
   "cell_type": "code",
   "execution_count": null,
   "metadata": {
    "colab": {
     "base_uri": "https://localhost:8080/",
     "height": 206
    },
    "id": "9IQeq7JFWKkW",
    "outputId": "01a73f3f-27b0-4f10-b3ad-d1fc2452f5c0"
   },
   "outputs": [],
   "source": [
    "electricity_prices.head()"
   ]
  },
  {
   "cell_type": "code",
   "execution_count": null,
   "metadata": {
    "colab": {
     "base_uri": "https://localhost:8080/",
     "height": 206
    },
    "id": "sigJrr6LWMpr",
    "outputId": "76490675-5b56-4daf-bd6f-301b9e25a6d1"
   },
   "outputs": [],
   "source": [
    "gas_prices.head()"
   ]
  },
  {
   "cell_type": "code",
   "execution_count": null,
   "metadata": {
    "id": "NswFYafUX5gN"
   },
   "outputs": [],
   "source": [
    "# Drop data_block_id columns\n",
    "historical_weather = historical_weather.drop(['data_block_id'], axis=1)\n",
    "electricity_prices = electricity_prices.drop(['data_block_id'], axis=1)\n",
    "gas_prices = gas_prices.drop(['data_block_id'], axis=1)"
   ]
  },
  {
   "cell_type": "markdown",
   "metadata": {
    "id": "jLesv9Mcf7JR"
   },
   "source": [
    "## Data types"
   ]
  },
  {
   "cell_type": "code",
   "execution_count": null,
   "metadata": {
    "colab": {
     "base_uri": "https://localhost:8080/"
    },
    "id": "jEeSQT3df96J",
    "outputId": "582842c1-875a-4db4-ee7b-11c953e7934f"
   },
   "outputs": [],
   "source": [
    "# Numer of nulls\n",
    "print('Train consumption')\n",
    "print(train_c.dtypes)\n",
    "print('\\nTrain production')\n",
    "print(train_p.dtypes)\n",
    "print('\\nHistorical weather')\n",
    "print(historical_weather.dtypes)\n",
    "print('\\nElectricity prices')\n",
    "print(electricity_prices.dtypes)\n",
    "print('\\nGas prices')\n",
    "print(gas_prices.dtypes)"
   ]
  },
  {
   "cell_type": "code",
   "execution_count": null,
   "metadata": {
    "id": "dvIpQ-MIXUou"
   },
   "outputs": [],
   "source": [
    "# Change date columns to datetime type\n",
    "train_c['datetime'] = pd.to_datetime(train_c['datetime'])\n",
    "train_p['datetime'] = pd.to_datetime(train_p['datetime'])\n",
    "historical_weather['datetime'] = pd.to_datetime(historical_weather['datetime'])\n",
    "electricity_prices['forecast_date'] = pd.to_datetime(electricity_prices['forecast_date'])\n",
    "electricity_prices['origin_date'] = pd.to_datetime(electricity_prices['origin_date'])\n",
    "gas_prices['forecast_date'] = pd.to_datetime(gas_prices['forecast_date'])\n",
    "gas_prices['origin_date'] = pd.to_datetime(gas_prices['origin_date'])"
   ]
  },
  {
   "cell_type": "markdown",
   "metadata": {
    "id": "0WIkRNfxgL7P"
   },
   "source": [
    "## Missing values"
   ]
  },
  {
   "cell_type": "code",
   "execution_count": null,
   "metadata": {
    "colab": {
     "base_uri": "https://localhost:8080/"
    },
    "id": "SRofMH6ZvHkd",
    "outputId": "f6495c63-def0-4a8c-ab36-bd2fc1e35139"
   },
   "outputs": [],
   "source": [
    "# Numer of nulls\n",
    "print('Train consumption')\n",
    "print(train_c.isnull().sum())\n",
    "print('\\nTrain production')\n",
    "print(train_p.isnull().sum())\n",
    "print('\\nHistorical weather')\n",
    "print(historical_weather.isnull().sum())\n",
    "print('\\nElectricity prices')\n",
    "print(electricity_prices.isnull().sum())\n",
    "print('\\nGas prices')\n",
    "print(gas_prices.isnull().sum())"
   ]
  },
  {
   "cell_type": "code",
   "execution_count": null,
   "metadata": {
    "colab": {
     "base_uri": "https://localhost:8080/"
    },
    "id": "gez7_ntlYXmW",
    "outputId": "6465d236-b52c-4e8f-c3ad-883b0577902d"
   },
   "outputs": [],
   "source": [
    "# Show rows where target is null\n",
    "print(train_c[train_c['target'].isnull()])\n",
    "print(train_p[train_p['target'].isnull()])"
   ]
  },
  {
   "cell_type": "code",
   "execution_count": null,
   "metadata": {},
   "outputs": [],
   "source": [
    "# Sort by datetime to correctly interpolate\n",
    "train_c = train_c.sort_values(by='datetime')\n",
    "train_p = train_p.sort_values(by='datetime')\n",
    "\n",
    "# Fill missing values by interpolating linearly\n",
    "train_c['target'] = train_c['target'].interpolate(method='linear', limit_direction='both')\n",
    "train_p['target'] = train_p['target'].interpolate(method='linear', limit_direction='both')\n",
    "\n",
    "# Check remaining missing values\n",
    "print('Missing value of train_c:', train_c['target'].isnull().sum())\n",
    "print('Missing value of train_p:', train_p['target'].isnull().sum())\n"
   ]
  },
  {
   "cell_type": "markdown",
   "metadata": {
    "id": "nIjykyVggaLK"
   },
   "source": [
    "## Duplicates"
   ]
  },
  {
   "cell_type": "code",
   "execution_count": null,
   "metadata": {
    "colab": {
     "base_uri": "https://localhost:8080/"
    },
    "id": "XvNEDusEhO3B",
    "outputId": "205ef98b-b11b-487a-fa7a-b39fd64767e8"
   },
   "outputs": [],
   "source": [
    "# Check for duplicates in dataframes\n",
    "print('Sum of duplicates in train_c:', train_c.duplicated().sum())\n",
    "print('Sum of duplicates in train_p:', train_p.duplicated().sum())\n",
    "print('Sum of duplicates in historical_weather:', historical_weather.duplicated().sum())\n",
    "print('Sum of duplicates in electricity_prices:', electricity_prices.duplicated().sum())\n",
    "print('Sum of duplicates in gas_prices:', gas_prices.duplicated().sum())"
   ]
  },
  {
   "cell_type": "code",
   "execution_count": null,
   "metadata": {
    "colab": {
     "base_uri": "https://localhost:8080/"
    },
    "id": "dZOArXlih1Ne",
    "outputId": "b3007255-07c1-4ed8-8df0-e44ec8df38df"
   },
   "outputs": [],
   "source": [
    "# Check for date duplicates\n",
    "print('Number of date duplicates in train_c:', train_c['datetime'].duplicated().sum())\n",
    "print('Number of date duplicates in train_p:', train_p['datetime'].duplicated().sum())\n",
    "print('Number of date duplicates in historical_weather:', historical_weather['datetime'].duplicated().sum())\n",
    "print('Number of date duplicates in electricity_prices:', electricity_prices['forecast_date'].duplicated().sum())\n",
    "print('Number of date duplicates in gas_prices:', gas_prices['forecast_date'].duplicated().sum())"
   ]
  },
  {
   "cell_type": "markdown",
   "metadata": {
    "id": "mqUssnf8gRwK"
   },
   "source": [
    "## Data distribution\n",
    "describe y ditribuciones"
   ]
  },
  {
   "cell_type": "markdown",
   "metadata": {
    "id": "DPtM9jL-gPVF"
   },
   "source": [
    "## Outliers"
   ]
  },
  {
   "cell_type": "code",
   "execution_count": null,
   "metadata": {
    "colab": {
     "base_uri": "https://localhost:8080/",
     "height": 542
    },
    "id": "qRNrN0jKlN44",
    "outputId": "72797127-7207-4092-ed56-acb23bd12861"
   },
   "outputs": [],
   "source": [
    "plt.figure(figsize=(20, 6))\n",
    "sns.boxplot(train_c['target'], orient='h')\n",
    "plt.show()"
   ]
  },
  {
   "cell_type": "code",
   "execution_count": null,
   "metadata": {
    "colab": {
     "base_uri": "https://localhost:8080/",
     "height": 542
    },
    "id": "wZ56Aac3iLsx",
    "outputId": "9ef6fc42-ae6b-42f8-98c9-80c98054b461"
   },
   "outputs": [],
   "source": [
    "plt.figure(figsize=(20, 6))\n",
    "sns.boxplot(train_p['target'], orient='h')\n",
    "plt.show()"
   ]
  },
  {
   "cell_type": "code",
   "execution_count": null,
   "metadata": {
    "colab": {
     "base_uri": "https://localhost:8080/",
     "height": 542
    },
    "id": "Jfkv6BehlSTE",
    "outputId": "7e89453e-3df0-47e0-a588-18bf1708e4c3"
   },
   "outputs": [],
   "source": [
    "plt.figure(figsize=(20, 6))\n",
    "sns.boxplot(electricity_prices['euros_per_mwh'], orient='h')\n",
    "plt.show()"
   ]
  },
  {
   "cell_type": "code",
   "execution_count": null,
   "metadata": {
    "colab": {
     "base_uri": "https://localhost:8080/",
     "height": 542
    },
    "id": "Y1dhfPE7lVCO",
    "outputId": "4d9fac1f-22fa-4e92-8f64-4e5429f77825"
   },
   "outputs": [],
   "source": [
    "plt.figure(figsize=(20, 6))\n",
    "sns.boxplot(gas_prices['lowest_price_per_mwh'], orient='h')\n",
    "plt.show()"
   ]
  },
  {
   "cell_type": "code",
   "execution_count": null,
   "metadata": {
    "colab": {
     "base_uri": "https://localhost:8080/",
     "height": 542
    },
    "id": "xwGhKSSRllnW",
    "outputId": "55d92f18-1509-4999-c8d4-d03930ad171c"
   },
   "outputs": [],
   "source": [
    "plt.figure(figsize=(20, 6))\n",
    "sns.boxplot(gas_prices['highest_price_per_mwh'], orient='h')\n",
    "plt.show()"
   ]
  },
  {
   "cell_type": "markdown",
   "metadata": {
    "id": "ZM8ecRdDgohf"
   },
   "source": [
    "## Correlations"
   ]
  },
  {
   "cell_type": "code",
   "execution_count": null,
   "metadata": {
    "colab": {
     "base_uri": "https://localhost:8080/",
     "height": 837
    },
    "id": "BqEknQwqmQgK",
    "outputId": "633e5d17-d739-4b6d-9cc8-aa70a2c9b7c4"
   },
   "outputs": [],
   "source": [
    "correlation_matrix = historical_weather.corr()\n",
    "\n",
    "plt.figure(figsize=(10, 8))\n",
    "sns.heatmap(correlation_matrix, annot=True, fmt=\".2f\", cmap='coolwarm', square=True, cbar_kws={\"shrink\": .8})\n",
    "plt.title('Correlation Heatmap', fontsize=16)\n",
    "plt.show()"
   ]
  },
  {
   "cell_type": "markdown",
   "metadata": {
    "id": "APM7PV3Bn-bh"
   },
   "source": [
    "Las variables con correlación mayor al 80% son:\n",
    "- cloudcover_low - cloudcover_total: 85%\n",
    "- direct_solar_radiation - shortwave_radiation: 97%\n",
    "- diffuse_radiation - shortwave_radiation: 84%\n",
    "\n",
    "Se va a eliminar la variable con menor varianza"
   ]
  },
  {
   "cell_type": "code",
   "execution_count": null,
   "metadata": {
    "colab": {
     "base_uri": "https://localhost:8080/"
    },
    "id": "wYRROScRnGtA",
    "outputId": "9b5a45bb-63d5-441f-ba80-e5e32f670360"
   },
   "outputs": [],
   "source": [
    "# Variance of correlated fields\n",
    "print('Variance of cloudcover_low', historical_weather['cloudcover_low'].var())\n",
    "print('Variance of cloudcover_total', historical_weather['cloudcover_total'].var())\n",
    "print('Variance of direct_solar_radiation:', historical_weather['direct_solar_radiation'].var())\n",
    "print('Variance of shortwave_radiation:', historical_weather['shortwave_radiation'].var())\n",
    "print('Variance of diffuse_radiation:', historical_weather['diffuse_radiation'].var())"
   ]
  },
  {
   "cell_type": "markdown",
   "metadata": {
    "id": "xg5bqlTzpE3W"
   },
   "source": [
    "Variables con mayor variana entre cada par correlacionado:\n",
    "- cloudcover_low - cloudcover_total: cloudcover_low\n",
    "- direct_solar_radiation - shortwave_radiation: shortwave_radiation\n",
    "- diffuse_radiation - shortwave_radiation: shortwave_radiation\n",
    "\n",
    "Se van a mantener las variables cloudcover_low y shortwave_radiation"
   ]
  },
  {
   "cell_type": "code",
   "execution_count": null,
   "metadata": {
    "id": "KBmUpVadphwg"
   },
   "outputs": [],
   "source": [
    "historical_weather = historical_weather.drop(['cloudcover_total', 'direct_solar_radiation', 'diffuse_radiation'], axis=1)"
   ]
  },
  {
   "cell_type": "markdown",
   "metadata": {
    "id": "LkJicMGbg9uq"
   },
   "source": [
    "## Otros\n",
    "- catgorico no hay nada\n",
    "- cosas de sries de tiempo\n",
    "- mostrar cuantos datos se usaran en total\n",
    "- estandarizar si es necesario"
   ]
  },
  {
   "cell_type": "code",
   "execution_count": null,
   "metadata": {
    "colab": {
     "base_uri": "https://localhost:8080/",
     "height": 424
    },
    "id": "Z-wz_Dnu1ZgP",
    "outputId": "20ac2b1f-9786-4f7d-f7e8-6d572822eb4e"
   },
   "outputs": [],
   "source": [
    "# Get info from each column\n",
    "historical_weather.describe()"
   ]
  },
  {
   "cell_type": "code",
   "execution_count": null,
   "metadata": {
    "id": "r5_NjL1YJtdo"
   },
   "outputs": [],
   "source": [
    "# # Graph variable for every county to look for unusual data\n",
    "# counties = historical_weather['county'].unique()\n",
    "# column = 'temperature'\n",
    "\n",
    "# fig, axes = plt.subplots(len(counties), 1, figsize=(10, len(counties) * 3))\n",
    "# for i, county in enumerate(counties):\n",
    "#     df = historical_weather[historical_weather['county'] == county]\n",
    "#     ax = axes[i]\n",
    "#     ax.plot(df['datetime'], df[column])\n",
    "#     ax.set_title(f'County {county}')\n",
    "#     ax.set_ylabel(column)\n",
    "#     ax.tick_params(axis='x', rotation=45)\n",
    "\n",
    "# plt.tight_layout(rect=[0, 0, 1, 0.97])\n",
    "# plt.show()"
   ]
  },
  {
   "cell_type": "code",
   "execution_count": null,
   "metadata": {
    "id": "hOlgnqzOnYAu"
   },
   "outputs": [],
   "source": [
    "# daily_avg_temp = group_df(historical_weather, [historical_weather['datetime'].dt.date, 'county'], group_data={'temperature': 'mean'})\n",
    "# plt.figure(figsize=(14, 8))\n",
    "\n",
    "# # Loop through each county and plot its daily average temperature\n",
    "# for county in daily_avg_temp['county'].unique():\n",
    "#     county_data = daily_avg_temp[daily_avg_temp['county'] == county]\n",
    "#     plt.plot(county_data['datetime'], county_data['temperature'], label=f'County {county}')\n",
    "\n",
    "# # Add labels and title\n",
    "# plt.xlabel('Date')\n",
    "# plt.ylabel('Average Temperature')\n",
    "# plt.title('Daily Average Temperature by County')\n",
    "# plt.legend(title=\"County\")\n",
    "# plt.xticks(rotation=45)\n",
    "# plt.tight_layout()\n",
    "\n",
    "# plt.show()"
   ]
  },
  {
   "cell_type": "code",
   "execution_count": null,
   "metadata": {
    "colab": {
     "base_uri": "https://localhost:8080/",
     "height": 219
    },
    "id": "kp4VXCpUOwur",
    "outputId": "5ccacec9-fed1-458a-f979-3523efec182e"
   },
   "outputs": [],
   "source": [
    "# # Plot production and consumption\n",
    "# train_c_daily = group_df(train_c, ['datetime'.dt.date], group_data={'target': 'sum'})\n",
    "# train_p_daily = group_df(train_p, ['datetime'.dt.date], group_data={'target': 'sum'})\n",
    "\n",
    "# plt.figure(figsize=(15, 5))\n",
    "# plt.plot(train_c_daily['datetime'], train_c_daily['target'], label='Consumption')\n",
    "# plt.plot(train_p_daily['datetime'], train_p_daily['target'], label='Production')\n",
    "# plt.title('Consumption vs Production')\n",
    "# plt.legend()\n",
    "# plt.xticks(rotation=45)\n",
    "# plt.show()"
   ]
  },
  {
   "cell_type": "markdown",
   "metadata": {
    "id": "lkeNiP1ssiZb"
   },
   "source": [
    "# Save datasets"
   ]
  },
  {
   "cell_type": "code",
   "execution_count": 32,
   "metadata": {
    "id": "hT1eTAJLsqS7"
   },
   "outputs": [],
   "source": [
    "# Consumption dataset\n",
    "consumption_path = root.DIR_DATA_RAW + 'train_consumption.pkl'\n",
    "train_c.to_pickle(consumption_path)"
   ]
  },
  {
   "cell_type": "code",
   "execution_count": 33,
   "metadata": {},
   "outputs": [],
   "source": [
    "# Production dataset\n",
    "production_path = root.DIR_DATA_RAW + 'train_production.pkl'\n",
    "train_p.to_pickle(production_path)"
   ]
  },
  {
   "cell_type": "code",
   "execution_count": 34,
   "metadata": {},
   "outputs": [],
   "source": [
    "# Historical weather\n",
    "weather_path = root.DIR_DATA_RAW + 'hist_weather_processed.pkl'\n",
    "historical_weather.to_pickle(weather_path) "
   ]
  },
  {
   "cell_type": "code",
   "execution_count": 35,
   "metadata": {},
   "outputs": [],
   "source": [
    "# Electricity prices\n",
    "electricity_path = root.DIR_DATA_RAW + 'electricity_processed.pkl'\n",
    "historical_weather.to_pickle(electricity_path)"
   ]
  },
  {
   "cell_type": "code",
   "execution_count": 36,
   "metadata": {},
   "outputs": [],
   "source": [
    "# Gas prices\n",
    "gas_path = root.DIR_DATA_RAW + 'gas_processed.pkl'\n",
    "historical_weather.to_pickle(gas_path)"
   ]
  }
 ],
 "metadata": {
  "colab": {
   "collapsed_sections": [
    "qVM6A8sj09a_",
    "LYlmUwcMNak3",
    "AvayJyRRPsqC",
    "4ZQGvq-zrJaW",
    "MYWflQbkxaA8",
    "pW4GDtpBUcwo",
    "EYCA5WcXhGjR",
    "jLesv9Mcf7JR",
    "0WIkRNfxgL7P",
    "nIjykyVggaLK",
    "DPtM9jL-gPVF",
    "ZM8ecRdDgohf",
    "LkJicMGbg9uq"
   ],
   "provenance": []
  },
  "kernelspec": {
   "display_name": "Python 3",
   "name": "python3"
  },
  "language_info": {
   "codemirror_mode": {
    "name": "ipython",
    "version": 3
   },
   "file_extension": ".py",
   "mimetype": "text/x-python",
   "name": "python",
   "nbconvert_exporter": "python",
   "pygments_lexer": "ipython3",
   "version": "3.12.1"
  }
 },
 "nbformat": 4,
 "nbformat_minor": 0
}
