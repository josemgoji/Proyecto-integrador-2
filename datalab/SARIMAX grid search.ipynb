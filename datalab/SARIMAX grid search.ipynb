{
 "cells": [
  {
   "cell_type": "code",
   "execution_count": 1,
   "metadata": {},
   "outputs": [
    {
     "name": "stdout",
     "output_type": "stream",
     "text": [
      "\u001b[1m\u001b[38;5;208mVersión skforecast: 0.14.0\n",
      "\u001b[1m\u001b[38;5;208mVersión statsmodels: 0.14.2\n",
      "\u001b[1m\u001b[38;5;208mVersión pandas: 2.2.3\n",
      "\u001b[1m\u001b[38;5;208mVersión numpy: 1.26.4\n"
     ]
    }
   ],
   "source": [
    "import sys\n",
    "import os\n",
    "import pandas as pd\n",
    "import numpy as np\n",
    "import matplotlib.pyplot as plt\n",
    "from sklearn.metrics import root_mean_squared_error\n",
    "\n",
    "# statsmodels\n",
    "import statsmodels\n",
    "from statsmodels.tsa.statespace.sarimax import SARIMAX\n",
    "from statsmodels.tsa.stattools import adfuller\n",
    "from statsmodels.tsa.stattools import kpss\n",
    "from statsmodels.graphics.tsaplots import plot_acf, plot_pacf\n",
    "from statsmodels.tsa.seasonal import seasonal_decompose\n",
    "\n",
    "# skforecast\n",
    "import skforecast\n",
    "from skforecast.datasets import fetch_dataset\n",
    "from skforecast.plot import set_dark_theme\n",
    "from skforecast.sarimax import Sarimax\n",
    "from skforecast.recursive import ForecasterSarimax\n",
    "from skforecast.model_selection import TimeSeriesFold\n",
    "from skforecast.model_selection import backtesting_sarimax\n",
    "from skforecast.model_selection import grid_search_sarimax\n",
    "\n",
    "import warnings\n",
    "warnings.filterwarnings('once')\n",
    "\n",
    "color = '\\033[1m\\033[38;5;208m' \n",
    "print(f\"{color}Versión skforecast: {skforecast.__version__}\")\n",
    "print(f\"{color}Versión statsmodels: {statsmodels.__version__}\")\n",
    "print(f\"{color}Versión pandas: {pd.__version__}\")\n",
    "print(f\"{color}Versión numpy: {np.__version__}\")"
   ]
  },
  {
   "cell_type": "code",
   "execution_count": 2,
   "metadata": {},
   "outputs": [],
   "source": [
    "def load_datasets():\n",
    "    current_dir = os.getcwd()\n",
    "    ROOT_PATH = os.path.dirname(current_dir)\n",
    "    sys.path.insert(1, ROOT_PATH)\n",
    "    sys.path.insert(1, current_dir)\n",
    "    import root\n",
    "\n",
    "    train = pd.read_pickle(root.DIR_DATA_STAGE + 'train_preprocessed.pkl')\n",
    "    return root, train\n",
    "\n",
    "\n",
    "def create_forecaster(train, series, levels):\n",
    "    forecaster = ForecasterSarimax(\n",
    "        regressor=Sarimax(\n",
    "            order=(1, 1, 1), # Placeholder replaced in the grid search\n",
    "            seasonal_order = (1, 1, 1, 12),\n",
    "            maxiter=500\n",
    "        )\n",
    "    )\n",
    "    forecaster.fit(\n",
    "        y    = train['target'],\n",
    "        exog = train[series]\n",
    "    )\n",
    "    return forecaster\n",
    "\n",
    "\n",
    "def backtesting(data, train, forecaster, param_grid, steps):\n",
    "    cv = TimeSeriesFold(\n",
    "        steps              = steps,\n",
    "        initial_train_size = len(train),\n",
    "        refit              = False,\n",
    "    )\n",
    "    resultados_grid = grid_search_sarimax(\n",
    "        forecaster            = forecaster,\n",
    "        y                     = data['target'],\n",
    "        cv                    = cv,\n",
    "        param_grid            = param_grid,\n",
    "        metric                = root_mean_squared_error,\n",
    "        return_best           = False,\n",
    "        n_jobs                = 'auto',\n",
    "        suppress_warnings_fit = True,\n",
    "        verbose               = False,\n",
    "    )\n",
    "    return resultados_grid"
   ]
  },
  {
   "cell_type": "code",
   "execution_count": 3,
   "metadata": {},
   "outputs": [
    {
     "name": "stderr",
     "output_type": "stream",
     "text": [
      "c:\\Users\\jgome\\anaconda3\\envs\\time_series\\lib\\site-packages\\statsmodels\\base\\model.py:607: ConvergenceWarning: Maximum Likelihood optimization failed to converge. Check mle_retvals\n",
      "  warnings.warn(\"Maximum Likelihood optimization failed to \"\n"
     ]
    },
    {
     "name": "stdout",
     "output_type": "stream",
     "text": [
      "Number of models compared: 45.\n"
     ]
    },
    {
     "data": {
      "application/vnd.jupyter.widget-view+json": {
       "model_id": "cafd94fb360443199669cf536af81fe1",
       "version_major": 2,
       "version_minor": 0
      },
      "text/plain": [
       "params grid:   0%|          | 0/45 [00:00<?, ?it/s]"
      ]
     },
     "metadata": {},
     "output_type": "display_data"
    }
   ],
   "source": [
    "root, train = load_datasets()\n",
    "data = train.copy()\n",
    "end_val = '2022-08-31 23:59:59'\n",
    "val = train.loc[end_val:]\n",
    "train = train.loc[:end_val]\n",
    "\n",
    "series = ['target', 'temperature', 'rain', 'snowfall', 'surface_pressure', 'cloudcover_total', 'windspeed_10m', 'winddirection_10m', 'shortwave_radiation', 'euros_per_mwh', 'installed_capacity'] \n",
    "levels = ['target']  # Serie que se quiere predecir\n",
    "\n",
    "data = data[series].copy()\n",
    "data_train = train[series].copy()\n",
    "data_val = val[series].copy()\n",
    "\n",
    "forecaster = create_forecaster(data_train, series, levels)\n",
    "\n",
    "param_grid = {\n",
    "    'order': [(0, 1, 0), (0, 1, 1), (1, 1, 0), (1, 1, 1), (2, 1, 1)],\n",
    "    'seasonal_order': [(0, 0, 0, 0), (0, 1, 0, 12), (1, 1, 1, 12)],\n",
    "    'trend': [None, 'n', 'c']\n",
    "}\n",
    "resultados_grid = backtesting(data, train, forecaster, param_grid, 72)\n",
    "resultados_grid.to_excel(root.DIR_DATA_ANALYTICS + 'SARIMAX_grid_search_results.xlsx')"
   ]
  },
  {
   "cell_type": "code",
   "execution_count": null,
   "metadata": {},
   "outputs": [],
   "source": []
  }
 ],
 "metadata": {
  "kernelspec": {
   "display_name": "time_series",
   "language": "python",
   "name": "python3"
  },
  "language_info": {
   "codemirror_mode": {
    "name": "ipython",
    "version": 3
   },
   "file_extension": ".py",
   "mimetype": "text/x-python",
   "name": "python",
   "nbconvert_exporter": "python",
   "pygments_lexer": "ipython3",
   "version": "3.10.15"
  }
 },
 "nbformat": 4,
 "nbformat_minor": 2
}
